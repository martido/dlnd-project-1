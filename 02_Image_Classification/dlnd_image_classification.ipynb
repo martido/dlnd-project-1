{
 "cells": [
  {
   "cell_type": "markdown",
   "metadata": {
    "collapsed": true
   },
   "source": [
    "# Image Classification\n",
    "In this project, you'll classify images from the [CIFAR-10 dataset](https://www.cs.toronto.edu/~kriz/cifar.html).  The dataset consists of airplanes, dogs, cats, and other objects. You'll preprocess the images, then train a convolutional neural network on all the samples. The images need to be normalized and the labels need to be one-hot encoded.  You'll get to apply what you learned and build a convolutional, max pooling, dropout, and fully connected layers.  At the end, you'll get to see your neural network's predictions on the sample images.\n",
    "## Get the Data\n",
    "Run the following cell to download the [CIFAR-10 dataset for python](https://www.cs.toronto.edu/~kriz/cifar-10-python.tar.gz)."
   ]
  },
  {
   "cell_type": "code",
   "execution_count": 1,
   "metadata": {
    "collapsed": false
   },
   "outputs": [
    {
     "name": "stdout",
     "output_type": "stream",
     "text": [
      "All files found!\n"
     ]
    }
   ],
   "source": [
    "\"\"\"\n",
    "DON'T MODIFY ANYTHING IN THIS CELL THAT IS BELOW THIS LINE\n",
    "\"\"\"\n",
    "from urllib.request import urlretrieve\n",
    "from os.path import isfile, isdir\n",
    "from tqdm import tqdm\n",
    "import problem_unittests as tests\n",
    "import tarfile\n",
    "\n",
    "cifar10_dataset_folder_path = 'cifar-10-batches-py'\n",
    "\n",
    "# Use Floyd's cifar-10 dataset if present\n",
    "floyd_cifar10_location = '/input/cifar-10/python.tar.gz'\n",
    "if isfile(floyd_cifar10_location):\n",
    "    tar_gz_path = floyd_cifar10_location\n",
    "else:\n",
    "    tar_gz_path = 'cifar-10-python.tar.gz'\n",
    "\n",
    "class DLProgress(tqdm):\n",
    "    last_block = 0\n",
    "\n",
    "    def hook(self, block_num=1, block_size=1, total_size=None):\n",
    "        self.total = total_size\n",
    "        self.update((block_num - self.last_block) * block_size)\n",
    "        self.last_block = block_num\n",
    "\n",
    "if not isfile(tar_gz_path):\n",
    "    with DLProgress(unit='B', unit_scale=True, miniters=1, desc='CIFAR-10 Dataset') as pbar:\n",
    "        urlretrieve(\n",
    "            'https://www.cs.toronto.edu/~kriz/cifar-10-python.tar.gz',\n",
    "            tar_gz_path,\n",
    "            pbar.hook)\n",
    "\n",
    "if not isdir(cifar10_dataset_folder_path):\n",
    "    with tarfile.open(tar_gz_path) as tar:\n",
    "        tar.extractall()\n",
    "        tar.close()\n",
    "\n",
    "\n",
    "tests.test_folder_path(cifar10_dataset_folder_path)"
   ]
  },
  {
   "cell_type": "markdown",
   "metadata": {},
   "source": [
    "## Explore the Data\n",
    "The dataset is broken into batches to prevent your machine from running out of memory.  The CIFAR-10 dataset consists of 5 batches, named `data_batch_1`, `data_batch_2`, etc.. Each batch contains the labels and images that are one of the following:\n",
    "* airplane\n",
    "* automobile\n",
    "* bird\n",
    "* cat\n",
    "* deer\n",
    "* dog\n",
    "* frog\n",
    "* horse\n",
    "* ship\n",
    "* truck\n",
    "\n",
    "Understanding a dataset is part of making predictions on the data.  Play around with the code cell below by changing the `batch_id` and `sample_id`. The `batch_id` is the id for a batch (1-5). The `sample_id` is the id for a image and label pair in the batch.\n",
    "\n",
    "Ask yourself \"What are all possible labels?\", \"What is the range of values for the image data?\", \"Are the labels in order or random?\".  Answers to questions like these will help you preprocess the data and end up with better predictions."
   ]
  },
  {
   "cell_type": "code",
   "execution_count": 2,
   "metadata": {
    "collapsed": false
   },
   "outputs": [
    {
     "name": "stdout",
     "output_type": "stream",
     "text": [
      "\n",
      "Stats of batch 1:\n",
      "Samples: 10000\n",
      "Label Counts: {0: 1005, 1: 974, 2: 1032, 3: 1016, 4: 999, 5: 937, 6: 1030, 7: 1001, 8: 1025, 9: 981}\n",
      "First 20 Labels: [6, 9, 9, 4, 1, 1, 2, 7, 8, 3, 4, 7, 7, 2, 9, 9, 9, 3, 2, 6]\n",
      "\n",
      "Example of Image 5:\n",
      "Image - Min Value: 0 Max Value: 252\n",
      "Image - Shape: (32, 32, 3)\n",
      "Label - Label Id: 1 Name: automobile\n"
     ]
    },
    {
     "data": {
      "image/png": "[encoded data removed]",
      "text/plain": [
       "<matplotlib.figure.Figure at 0x7f5d7e888dd8>"
      ]
     },
     "metadata": {
      "image/png": {
       "height": 250,
       "width": 253
      }
     },
     "output_type": "display_data"
    }
   ],
   "source": [
    "%matplotlib inline\n",
    "%config InlineBackend.figure_format = 'retina'\n",
    "\n",
    "import helper\n",
    "import numpy as np\n",
    "\n",
    "# Explore the dataset\n",
    "batch_id = 1\n",
    "sample_id = 5\n",
    "helper.display_stats(cifar10_dataset_folder_path, batch_id, sample_id)"
   ]
  },
  {
   "cell_type": "markdown",
   "metadata": {},
   "source": [
    "## Implement Preprocess Functions\n",
    "### Normalize\n",
    "In the cell below, implement the `normalize` function to take in image data, `x`, and return it as a normalized Numpy array. The values should be in the range of 0 to 1, inclusive.  The return object should be the same shape as `x`."
   ]
  },
  {
   "cell_type": "code",
   "execution_count": 3,
   "metadata": {
    "collapsed": false
   },
   "outputs": [
    {
     "name": "stdout",
     "output_type": "stream",
     "text": [
      "Tests Passed\n"
     ]
    }
   ],
   "source": [
    "def normalize(x):\n",
    "    \"\"\"\n",
    "    Normalize a list of sample image data in the range of 0 to 1\n",
    "    : x: List of image data.  The image shape is (32, 32, 3)\n",
    "    : return: Numpy array of normalize data\n",
    "    \"\"\"\n",
    "    result = np.zeros(x.shape)\n",
    "    for i, image in enumerate(x):\n",
    "        result[i] = image / 255\n",
    "    return result\n",
    "\n",
    "\n",
    "\"\"\"\n",
    "DON'T MODIFY ANYTHING IN THIS CELL THAT IS BELOW THIS LINE\n",
    "\"\"\"\n",
    "tests.test_normalize(normalize)"
   ]
  },
  {
   "cell_type": "markdown",
   "metadata": {},
   "source": [
    "### One-hot encode\n",
    "Just like the previous code cell, you'll be implementing a function for preprocessing.  This time, you'll implement the `one_hot_encode` function. The input, `x`, are a list of labels.  Implement the function to return the list of labels as One-Hot encoded Numpy array.  The possible values for labels are 0 to 9. The one-hot encoding function should return the same encoding for each value between each call to `one_hot_encode`.  Make sure to save the map of encodings outside the function.\n",
    "\n",
    "Hint: Don't reinvent the wheel."
   ]
  },
  {
   "cell_type": "code",
   "execution_count": 4,
   "metadata": {
    "collapsed": false
   },
   "outputs": [
    {
     "name": "stdout",
     "output_type": "stream",
     "text": [
      "Tests Passed\n"
     ]
    }
   ],
   "source": [
    "one_hot_encodings = {}\n",
    "one_hot_encodings[0] = [1, 0, 0, 0, 0, 0, 0, 0, 0, 0]\n",
    "one_hot_encodings[1] = [0, 1, 0, 0, 0, 0, 0, 0, 0, 0]\n",
    "one_hot_encodings[2] = [0, 0, 1, 0, 0, 0, 0, 0, 0, 0]\n",
    "one_hot_encodings[3] = [0, 0, 0, 1, 0, 0, 0, 0, 0, 0]\n",
    "one_hot_encodings[4] = [0, 0, 0, 0, 1, 0, 0, 0, 0, 0]\n",
    "one_hot_encodings[5] = [0, 0, 0, 0, 0, 1, 0, 0, 0, 0]\n",
    "one_hot_encodings[6] = [0, 0, 0, 0, 0, 0, 1, 0, 0, 0]\n",
    "one_hot_encodings[7] = [0, 0, 0, 0, 0, 0, 0, 1, 0, 0]\n",
    "one_hot_encodings[8] = [0, 0, 0, 0, 0, 0, 0, 0, 1, 0]\n",
    "one_hot_encodings[9] = [0, 0, 0, 0, 0, 0, 0, 0, 0, 1]\n",
    "\n",
    "def one_hot_encode(x):\n",
    "    \"\"\"\n",
    "    One hot encode a list of sample labels. Return a one-hot encoded vector for each label.\n",
    "    : x: List of sample Labels\n",
    "    : return: Numpy array of one-hot encoded labels\n",
    "    \"\"\"\n",
    "    result = np.zeros([len(x), 10])\n",
    "    for i, label in enumerate(x):\n",
    "        result[i] = one_hot_encodings[label]\n",
    "    return result\n",
    "\n",
    "\n",
    "\"\"\"\n",
    "DON'T MODIFY ANYTHING IN THIS CELL THAT IS BELOW THIS LINE\n",
    "\"\"\"\n",
    "tests.test_one_hot_encode(one_hot_encode)"
   ]
  },
  {
   "cell_type": "markdown",
   "metadata": {},
   "source": [
    "### Randomize Data\n",
    "As you saw from exploring the data above, the order of the samples are randomized.  It doesn't hurt to randomize it again, but you don't need to for this dataset."
   ]
  },
  {
   "cell_type": "markdown",
   "metadata": {},
   "source": [
    "## Preprocess all the data and save it\n",
    "Running the code cell below will preprocess all the CIFAR-10 data and save it to file. The code below also uses 10% of the training data for validation."
   ]
  },
  {
   "cell_type": "code",
   "execution_count": 5,
   "metadata": {
    "collapsed": true
   },
   "outputs": [],
   "source": [
    "\"\"\"\n",
    "DON'T MODIFY ANYTHING IN THIS CELL\n",
    "\"\"\"\n",
    "# Preprocess Training, Validation, and Testing Data\n",
    "helper.preprocess_and_save_data(cifar10_dataset_folder_path, normalize, one_hot_encode)"
   ]
  },
  {
   "cell_type": "markdown",
   "metadata": {},
   "source": [
    "# Check Point\n",
    "This is your first checkpoint.  If you ever decide to come back to this notebook or have to restart the notebook, you can start from here.  The preprocessed data has been saved to disk."
   ]
  },
  {
   "cell_type": "code",
   "execution_count": 6,
   "metadata": {
    "collapsed": true
   },
   "outputs": [],
   "source": [
    "\"\"\"\n",
    "DON'T MODIFY ANYTHING IN THIS CELL\n",
    "\"\"\"\n",
    "import pickle\n",
    "import problem_unittests as tests\n",
    "import helper\n",
    "\n",
    "# Load the Preprocessed Validation data\n",
    "valid_features, valid_labels = pickle.load(open('preprocess_validation.p', mode='rb'))"
   ]
  },
  {
   "cell_type": "markdown",
   "metadata": {},
   "source": [
    "## Build the network\n",
    "For the neural network, you'll build each layer into a function.  Most of the code you've seen has been outside of functions. To test your code more thoroughly, we require that you put each layer in a function.  This allows us to give you better feedback and test for simple mistakes using our unittests before you submit your project.\n",
    "\n",
    ">**Note:** If you're finding it hard to dedicate enough time for this course each week, we've provided a small shortcut to this part of the project. In the next couple of problems, you'll have the option to use classes from the [TensorFlow Layers](https://www.tensorflow.org/api_docs/python/tf/layers) or [TensorFlow Layers (contrib)](https://www.tensorflow.org/api_guides/python/contrib.layers) packages to build each layer, except the layers you build in the \"Convolutional and Max Pooling Layer\" section.  TF Layers is similar to Keras's and TFLearn's abstraction to layers, so it's easy to pickup.\n",
    "\n",
    ">However, if you would like to get the most out of this course, try to solve all the problems _without_ using anything from the TF Layers packages. You **can** still use classes from other packages that happen to have the same name as ones you find in TF Layers! For example, instead of using the TF Layers version of the `conv2d` class, [tf.layers.conv2d](https://www.tensorflow.org/api_docs/python/tf/layers/conv2d), you would want to use the TF Neural Network version of `conv2d`, [tf.nn.conv2d](https://www.tensorflow.org/api_docs/python/tf/nn/conv2d). \n",
    "\n",
    "Let's begin!\n",
    "\n",
    "### Input\n",
    "The neural network needs to read the image data, one-hot encoded labels, and dropout keep probability. Implement the following functions\n",
    "* Implement `neural_net_image_input`\n",
    " * Return a [TF Placeholder](https://www.tensorflow.org/api_docs/python/tf/placeholder)\n",
    " * Set the shape using `image_shape` with batch size set to `None`.\n",
    " * Name the TensorFlow placeholder \"x\" using the TensorFlow `name` parameter in the [TF Placeholder](https://www.tensorflow.org/api_docs/python/tf/placeholder).\n",
    "* Implement `neural_net_label_input`\n",
    " * Return a [TF Placeholder](https://www.tensorflow.org/api_docs/python/tf/placeholder)\n",
    " * Set the shape using `n_classes` with batch size set to `None`.\n",
    " * Name the TensorFlow placeholder \"y\" using the TensorFlow `name` parameter in the [TF Placeholder](https://www.tensorflow.org/api_docs/python/tf/placeholder).\n",
    "* Implement `neural_net_keep_prob_input`\n",
    " * Return a [TF Placeholder](https://www.tensorflow.org/api_docs/python/tf/placeholder) for dropout keep probability.\n",
    " * Name the TensorFlow placeholder \"keep_prob\" using the TensorFlow `name` parameter in the [TF Placeholder](https://www.tensorflow.org/api_docs/python/tf/placeholder).\n",
    "\n",
    "These names will be used at the end of the project to load your saved model.\n",
    "\n",
    "Note: `None` for shapes in TensorFlow allow for a dynamic size."
   ]
  },
  {
   "cell_type": "code",
   "execution_count": 7,
   "metadata": {
    "collapsed": false
   },
   "outputs": [
    {
     "name": "stdout",
     "output_type": "stream",
     "text": [
      "Image Input Tests Passed.\n",
      "Label Input Tests Passed.\n",
      "Keep Prob Tests Passed.\n"
     ]
    }
   ],
   "source": [
    "import tensorflow as tf\n",
    "\n",
    "def neural_net_image_input(image_shape):\n",
    "    \"\"\"\n",
    "    Return a Tensor for a batch of image input\n",
    "    : image_shape: Shape of the images\n",
    "    : return: Tensor for image input.\n",
    "    \"\"\"\n",
    "    # image_shape is a tuple: (32, 32, 3)\n",
    "    height = image_shape[0] # 32\n",
    "    width = image_shape[1] # 32\n",
    "    channels = image_shape[2] # 3: RGB channels\n",
    "    return tf.placeholder(tf.float32, [None, height, width, channels], name='x')\n",
    "\n",
    "\n",
    "def neural_net_label_input(n_classes):\n",
    "    \"\"\"\n",
    "    Return a Tensor for a batch of label input\n",
    "    : n_classes: Number of classes\n",
    "    : return: Tensor for label input.\n",
    "    \"\"\"\n",
    "    # n_classes: 10\n",
    "    return tf.placeholder(tf.float32, [None, n_classes], name='y')\n",
    "\n",
    "\n",
    "def neural_net_keep_prob_input():\n",
    "    \"\"\"\n",
    "    Return a Tensor for keep probability\n",
    "    : return: Tensor for keep probability.\n",
    "    \"\"\"\n",
    "    return tf.placeholder(tf.float32, name='keep_prob')\n",
    "\n",
    "\n",
    "\"\"\"\n",
    "DON'T MODIFY ANYTHING IN THIS CELL THAT IS BELOW THIS LINE\n",
    "\"\"\"\n",
    "tf.reset_default_graph()\n",
    "tests.test_nn_image_inputs(neural_net_image_input)\n",
    "tests.test_nn_label_inputs(neural_net_label_input)\n",
    "tests.test_nn_keep_prob_inputs(neural_net_keep_prob_input)"
   ]
  },
  {
   "cell_type": "markdown",
   "metadata": {},
   "source": [
    "### Convolution and Max Pooling Layer\n",
    "Convolution layers have a lot of success with images. For this code cell, you should implement the function `conv2d_maxpool` to apply convolution then max pooling:\n",
    "* Create the weight and bias using `conv_ksize`, `conv_num_outputs` and the shape of `x_tensor`.\n",
    "* Apply a convolution to `x_tensor` using weight and `conv_strides`.\n",
    " * We recommend you use same padding, but you're welcome to use any padding.\n",
    "* Add bias\n",
    "* Add a nonlinear activation to the convolution.\n",
    "* Apply Max Pooling using `pool_ksize` and `pool_strides`.\n",
    " * We recommend you use same padding, but you're welcome to use any padding.\n",
    "\n",
    "**Note:** You **can't** use [TensorFlow Layers](https://www.tensorflow.org/api_docs/python/tf/layers) or [TensorFlow Layers (contrib)](https://www.tensorflow.org/api_guides/python/contrib.layers) for **this** layer, but you can still use TensorFlow's [Neural Network](https://www.tensorflow.org/api_docs/python/tf/nn) package. You may still use the shortcut option for all the **other** layers."
   ]
  },
  {
   "cell_type": "code",
   "execution_count": 8,
   "metadata": {
    "collapsed": false
   },
   "outputs": [
    {
     "name": "stdout",
     "output_type": "stream",
     "text": [
      "Tests Passed\n"
     ]
    }
   ],
   "source": [
    "def conv2d_maxpool(x_tensor, conv_num_outputs, conv_ksize, conv_strides, pool_ksize, pool_strides):\n",
    "    \"\"\"\n",
    "    Apply convolution then max pooling to x_tensor\n",
    "    :param x_tensor: TensorFlow Tensor\n",
    "    :param conv_num_outputs: Number of outputs for the convolutional layer\n",
    "    :param conv_ksize: kernal size 2-D Tuple for the convolutional layer\n",
    "    :param conv_strides: Stride 2-D Tuple for convolution\n",
    "    :param pool_ksize: kernal size 2-D Tuple for pool\n",
    "    :param pool_strides: Stride 2-D Tuple for pool\n",
    "    : return: A tensor that represents convolution and max pooling of x_tensor\n",
    "    \"\"\"\n",
    "    # x_tensor shape: (?, 32, 32, 5)\n",
    "    # conv_num_outputs: 10\n",
    "    # conv_ksize is a tuple: (2, 2)\n",
    "    # conv_strides is a tuple: (4, 4)\n",
    "    # pool_ksize is a tuple: (2, 2)\n",
    "    # pool_strides is a tuple: (2, 2)\n",
    "    \n",
    "    # Note: x_tensor.shape[3] does NOT work. This returns an object of type \n",
    "    # tensorflow.python.framework.tensor_shape.Dimension, not an int.\n",
    "    \n",
    "    filter_height = conv_ksize[0]\n",
    "    filter_width = conv_ksize[1]\n",
    "    input_depth =  int(x_tensor.get_shape()[3])\n",
    "    output_depth = conv_num_outputs\n",
    "    \n",
    "    # Initialize the weights and the bias.\n",
    "    weights = tf.Variable(tf.truncated_normal([filter_height, filter_width, input_depth, output_depth], stddev = 0.1))\n",
    "    bias = tf.Variable(tf.zeros(conv_num_outputs)) \n",
    "    \n",
    "    # Apply convolutional layer with a ReLU activation function.\n",
    "    conv_layer = tf.nn.conv2d(x_tensor, weights, strides = [1, conv_strides[0], conv_strides[1], 1], padding = 'SAME')\n",
    "    conv_layer = tf.nn.bias_add(conv_layer, bias)\n",
    "    conv_layer = tf.nn.relu(conv_layer)\n",
    "        \n",
    "    # pool_ksize: The height and width of the filter with which max pooling is performed.\n",
    "    # pool_strides: The length of the stride for max pooling in both directions.\n",
    "    # The batch and channel dimensions are typically set to 1.\n",
    "    pool_layer = tf.nn.max_pool(conv_layer,\n",
    "                                ksize = [1, pool_ksize[0], pool_ksize[1], 1],\n",
    "                                strides = [1, pool_strides[0], pool_strides[1], 1],\n",
    "                                padding = 'SAME')\n",
    "    \n",
    "    return pool_layer\n",
    "\n",
    "\n",
    "\"\"\"\n",
    "DON'T MODIFY ANYTHING IN THIS CELL THAT IS BELOW THIS LINE\n",
    "\"\"\"\n",
    "tests.test_con_pool(conv2d_maxpool)"
   ]
  },
  {
   "cell_type": "markdown",
   "metadata": {},
   "source": [
    "### Flatten Layer\n",
    "Implement the `flatten` function to change the dimension of `x_tensor` from a 4-D tensor to a 2-D tensor.  The output should be the shape (*Batch Size*, *Flattened Image Size*). Shortcut option: you can use classes from the [TensorFlow Layers](https://www.tensorflow.org/api_docs/python/tf/layers) or [TensorFlow Layers (contrib)](https://www.tensorflow.org/api_guides/python/contrib.layers) packages for this layer. For more of a challenge, only use other TensorFlow packages."
   ]
  },
  {
   "cell_type": "code",
   "execution_count": 9,
   "metadata": {
    "collapsed": false
   },
   "outputs": [
    {
     "name": "stdout",
     "output_type": "stream",
     "text": [
      "Tests Passed\n"
     ]
    }
   ],
   "source": [
    "def flatten(x_tensor):\n",
    "    \"\"\"\n",
    "    Flatten x_tensor to (Batch Size, Flattened Image Size)\n",
    "    : x_tensor: A tensor of size (Batch Size, ...), where ... are the image dimensions.\n",
    "    : return: A tensor of size (Batch Size, Flattened Image Size).\n",
    "    \"\"\"\n",
    "    height = int(x_tensor.get_shape()[1])\n",
    "    width = int(x_tensor.get_shape()[2])\n",
    "    channels = int(x_tensor.get_shape()[3])\n",
    "    return tf.reshape(x_tensor, [-1, height * width * channels])\n",
    "\n",
    "\n",
    "\"\"\"\n",
    "DON'T MODIFY ANYTHING IN THIS CELL THAT IS BELOW THIS LINE\n",
    "\"\"\"\n",
    "tests.test_flatten(flatten)"
   ]
  },
  {
   "cell_type": "markdown",
   "metadata": {},
   "source": [
    "### Fully-Connected Layer\n",
    "Implement the `fully_conn` function to apply a fully connected layer to `x_tensor` with the shape (*Batch Size*, *num_outputs*). Shortcut option: you can use classes from the [TensorFlow Layers](https://www.tensorflow.org/api_docs/python/tf/layers) or [TensorFlow Layers (contrib)](https://www.tensorflow.org/api_guides/python/contrib.layers) packages for this layer. For more of a challenge, only use other TensorFlow packages."
   ]
  },
  {
   "cell_type": "code",
   "execution_count": 10,
   "metadata": {
    "collapsed": false
   },
   "outputs": [
    {
     "name": "stdout",
     "output_type": "stream",
     "text": [
      "Tests Passed\n"
     ]
    }
   ],
   "source": [
    "def fully_conn(x_tensor, num_outputs):\n",
    "    \"\"\"\n",
    "    Apply a fully connected layer to x_tensor using weight and bias\n",
    "    : x_tensor: A 2-D tensor where the first dimension is batch size.\n",
    "    : num_outputs: The number of output that the new tensor should be.\n",
    "    : return: A 2-D tensor where the second dimension is num_outputs.\n",
    "    \"\"\"\n",
    "    num_features = int(x_tensor.get_shape()[1])\n",
    "    weights = tf.Variable(tf.truncated_normal([num_features, num_outputs], stddev=0.1))\n",
    "    bias = tf.Variable(tf.zeros(num_outputs))\n",
    "    return tf.nn.relu(tf.add(tf.matmul(x_tensor, weights), bias))\n",
    "\n",
    "\n",
    "\"\"\"\n",
    "DON'T MODIFY ANYTHING IN THIS CELL THAT IS BELOW THIS LINE\n",
    "\"\"\"\n",
    "tests.test_fully_conn(fully_conn)"
   ]
  },
  {
   "cell_type": "markdown",
   "metadata": {},
   "source": [
    "### Output Layer\n",
    "Implement the `output` function to apply a fully connected layer to `x_tensor` with the shape (*Batch Size*, *num_outputs*). Shortcut option: you can use classes from the [TensorFlow Layers](https://www.tensorflow.org/api_docs/python/tf/layers) or [TensorFlow Layers (contrib)](https://www.tensorflow.org/api_guides/python/contrib.layers) packages for this layer. For more of a challenge, only use other TensorFlow packages.\n",
    "\n",
    "**Note:** Activation, softmax, or cross entropy should **not** be applied to this."
   ]
  },
  {
   "cell_type": "code",
   "execution_count": 11,
   "metadata": {
    "collapsed": false
   },
   "outputs": [
    {
     "name": "stdout",
     "output_type": "stream",
     "text": [
      "Tests Passed\n"
     ]
    }
   ],
   "source": [
    "def output(x_tensor, num_outputs):\n",
    "    \"\"\"\n",
    "    Apply a output layer to x_tensor using weight and bias\n",
    "    : x_tensor: A 2-D tensor where the first dimension is batch size.\n",
    "    : num_outputs: The number of output that the new tensor should be.\n",
    "    : return: A 2-D tensor where the second dimension is num_outputs.\n",
    "    \"\"\"\n",
    "    num_features = int(x_tensor.get_shape()[1])\n",
    "    weights = tf.Variable(tf.truncated_normal([num_features, num_outputs], stddev=0.1))\n",
    "    bias = tf.Variable(tf.zeros(num_outputs))\n",
    "    # Don't apply an activation function to the output.\n",
    "    return tf.add(tf.matmul(x_tensor, weights), bias)\n",
    "\n",
    "\n",
    "\"\"\"\n",
    "DON'T MODIFY ANYTHING IN THIS CELL THAT IS BELOW THIS LINE\n",
    "\"\"\"\n",
    "tests.test_output(output)"
   ]
  },
  {
   "cell_type": "markdown",
   "metadata": {},
   "source": [
    "### Create Convolutional Model\n",
    "Implement the function `conv_net` to create a convolutional neural network model. The function takes in a batch of images, `x`, and outputs logits.  Use the layers you created above to create this model:\n",
    "\n",
    "* Apply 1, 2, or 3 Convolution and Max Pool layers\n",
    "* Apply a Flatten Layer\n",
    "* Apply 1, 2, or 3 Fully Connected Layers\n",
    "* Apply an Output Layer\n",
    "* Return the output\n",
    "* Apply [TensorFlow's Dropout](https://www.tensorflow.org/api_docs/python/tf/nn/dropout) to one or more layers in the model using `keep_prob`. "
   ]
  },
  {
   "cell_type": "code",
   "execution_count": 12,
   "metadata": {
    "collapsed": false
   },
   "outputs": [
    {
     "name": "stdout",
     "output_type": "stream",
     "text": [
      "Neural Network Built!\n"
     ]
    }
   ],
   "source": [
    "# Tried to find inspiration from the blog post \"VGG in TensorFlow\" (https://www.cs.toronto.edu/~frossard/post/vgg16/).\n",
    "# For example:\n",
    "# - The network uses filters of size (3,3) and strides of (1,1).\n",
    "# - It also doubles the filter depth in every convolutional layer.\n",
    "# In the beginning, I tried to use 3 convolutional layers and 3 fully-connected layers.\n",
    "# That didn't work really well. The validation accuracy dropped to 10%, so no better than random.\n",
    "# Then I tried to simplify the network: 3 convolutional layers, 1 fully-connected layer with dropout.\n",
    "# That worked reasonably well. This network achieves around 72% test accuracy.\n",
    "\n",
    "def conv_net(x, keep_prob):\n",
    "    \"\"\"\n",
    "    Create a convolutional neural network model\n",
    "    : x: Placeholder tensor that holds image data.\n",
    "    : keep_prob: Placeholder tensor that hold dropout keep probability.\n",
    "    : return: Tensor that represents logits\n",
    "    \"\"\"\n",
    "    # TODO: Apply 1, 2, or 3 Convolution and Max Pool layers\n",
    "    #    Play around with different number of outputs, kernel size and stride\n",
    "    # Function Definition from Above:\n",
    "    #    conv2d_maxpool(x_tensor, conv_num_outputs, conv_ksize, conv_strides, pool_ksize, pool_strides)\n",
    "    \n",
    "    conv = conv2d_maxpool(x, 64, (3,3), (1,1), (2,2), (2,2))  # New dimensions: (16, 16, 64)\n",
    "    conv = conv2d_maxpool(conv, 128, (3,3), (1,1), (2,2), (2,2))  # New dimensions: (8, 8, 128)\n",
    "    conv = conv2d_maxpool(conv, 256, (3,3), (1,1), (2,2), (2,2))  # New dimensions: (4, 4, 256)\n",
    "\n",
    "    # TODO: Apply a Flatten Layer\n",
    "    # Function Definition from Above:\n",
    "    #   flatten(x_tensor)\n",
    "    flat = flatten(conv)\n",
    "\n",
    "    # TODO: Apply 1, 2, or 3 Fully Connected Layers\n",
    "    #    Play around with different number of outputs\n",
    "    # Function Definition from Above:\n",
    "    #   fully_conn(x_tensor, num_outputs)\n",
    "    fc = fully_conn(flat, 512)\n",
    "    fc = tf.nn.dropout(fc, keep_prob)\n",
    "    #fc = fully_conn(fc, 1024)\n",
    "    #fc = tf.nn.dropout(fc, keep_prob)\n",
    "    #fc = fully_conn(fc, 256)\n",
    "    \n",
    "    # TODO: Apply an Output Layer\n",
    "    #    Set this to the number of classes\n",
    "    # Function Definition from Above:\n",
    "    #   output(x_tensor, num_outputs)\n",
    "    out = output(fc, 10)    \n",
    "    \n",
    "    # TODO: return output\n",
    "    return out\n",
    "\n",
    "\n",
    "\"\"\"\n",
    "DON'T MODIFY ANYTHING IN THIS CELL THAT IS BELOW THIS LINE\n",
    "\"\"\"\n",
    "\n",
    "##############################\n",
    "## Build the Neural Network ##\n",
    "##############################\n",
    "\n",
    "# Remove previous weights, bias, inputs, etc..\n",
    "tf.reset_default_graph()\n",
    "\n",
    "# Inputs\n",
    "x = neural_net_image_input((32, 32, 3))\n",
    "y = neural_net_label_input(10)\n",
    "keep_prob = neural_net_keep_prob_input()\n",
    "\n",
    "# Model\n",
    "logits = conv_net(x, keep_prob)\n",
    "\n",
    "# Name logits Tensor, so that is can be loaded from disk after training\n",
    "logits = tf.identity(logits, name='logits')\n",
    "\n",
    "# Loss and Optimizer\n",
    "cost = tf.reduce_mean(tf.nn.softmax_cross_entropy_with_logits(logits=logits, labels=y))\n",
    "optimizer = tf.train.AdamOptimizer().minimize(cost)\n",
    "\n",
    "# Accuracy\n",
    "correct_pred = tf.equal(tf.argmax(logits, 1), tf.argmax(y, 1))\n",
    "accuracy = tf.reduce_mean(tf.cast(correct_pred, tf.float32), name='accuracy')\n",
    "\n",
    "tests.test_conv_net(conv_net)"
   ]
  },
  {
   "cell_type": "markdown",
   "metadata": {},
   "source": [
    "## Train the Neural Network\n",
    "### Single Optimization\n",
    "Implement the function `train_neural_network` to do a single optimization.  The optimization should use `optimizer` to optimize in `session` with a `feed_dict` of the following:\n",
    "* `x` for image input\n",
    "* `y` for labels\n",
    "* `keep_prob` for keep probability for dropout\n",
    "\n",
    "This function will be called for each batch, so `tf.global_variables_initializer()` has already been called.\n",
    "\n",
    "Note: Nothing needs to be returned. This function is only optimizing the neural network."
   ]
  },
  {
   "cell_type": "code",
   "execution_count": 13,
   "metadata": {
    "collapsed": false
   },
   "outputs": [
    {
     "name": "stdout",
     "output_type": "stream",
     "text": [
      "Tests Passed\n"
     ]
    }
   ],
   "source": [
    "def train_neural_network(session, optimizer, keep_probability, feature_batch, label_batch):\n",
    "    \"\"\"\n",
    "    Optimize the session on a batch of images and labels\n",
    "    : session: Current TensorFlow session\n",
    "    : optimizer: TensorFlow optimizer function\n",
    "    : keep_probability: keep probability\n",
    "    : feature_batch: Batch of Numpy image data\n",
    "    : label_batch: Batch of Numpy label data\n",
    "    \"\"\"\n",
    "    session.run(optimizer, feed_dict={x: feature_batch, y: label_batch, keep_prob: keep_probability})\n",
    "\n",
    "\n",
    "\"\"\"\n",
    "DON'T MODIFY ANYTHING IN THIS CELL THAT IS BELOW THIS LINE\n",
    "\"\"\"\n",
    "tests.test_train_nn(train_neural_network)"
   ]
  },
  {
   "cell_type": "markdown",
   "metadata": {},
   "source": [
    "### Show Stats\n",
    "Implement the function `print_stats` to print loss and validation accuracy.  Use the global variables `valid_features` and `valid_labels` to calculate validation accuracy.  Use a keep probability of `1.0` to calculate the loss and validation accuracy."
   ]
  },
  {
   "cell_type": "code",
   "execution_count": 14,
   "metadata": {
    "collapsed": true
   },
   "outputs": [],
   "source": [
    "def print_stats(session, feature_batch, label_batch, cost, accuracy):\n",
    "    \"\"\"\n",
    "    Print information about loss and validation accuracy\n",
    "    : session: Current TensorFlow session\n",
    "    : feature_batch: Batch of Numpy image data\n",
    "    : label_batch: Batch of Numpy label data\n",
    "    : cost: TensorFlow cost function\n",
    "    : accuracy: TensorFlow accuracy function\n",
    "    \"\"\"\n",
    "    loss_feed_dict={x: feature_batch, y: label_batch, keep_prob: 1.0}\n",
    "    loss = session.run(cost, feed_dict=loss_feed_dict)\n",
    "    \n",
    "    validation_feed_dict = {x: valid_features, y: valid_labels, keep_prob: 1.0}\n",
    "    validation_accuracy = sess.run(accuracy, feed_dict=validation_feed_dict)\n",
    "    \n",
    "    print('Loss: {}, Accuracy: {}'.format(loss, validation_accuracy))\n",
    "    \n",
    "    return (loss, validation_accuracy)"
   ]
  },
  {
   "cell_type": "markdown",
   "metadata": {},
   "source": [
    "### Hyperparameters\n",
    "Tune the following parameters:\n",
    "* Set `epochs` to the number of iterations until the network stops learning or start overfitting\n",
    "* Set `batch_size` to the highest number that your machine has memory for.  Most people set them to common sizes of memory:\n",
    " * 64\n",
    " * 128\n",
    " * 256\n",
    " * ...\n",
    "* Set `keep_probability` to the probability of keeping a node using dropout"
   ]
  },
  {
   "cell_type": "code",
   "execution_count": 15,
   "metadata": {
    "collapsed": true
   },
   "outputs": [],
   "source": [
    "# TODO: Tune Parameters\n",
    "epochs = 25\n",
    "batch_size = 64\n",
    "keep_probability = 0.65"
   ]
  },
  {
   "cell_type": "markdown",
   "metadata": {},
   "source": [
    "### Train on a Single CIFAR-10 Batch\n",
    "Instead of training the neural network on all the CIFAR-10 batches of data, let's use a single batch. This should save time while you iterate on the model to get a better accuracy.  Once the final validation accuracy is 50% or greater, run the model on all the data in the next section."
   ]
  },
  {
   "cell_type": "code",
   "execution_count": 16,
   "metadata": {
    "collapsed": false
   },
   "outputs": [
    {
     "name": "stdout",
     "output_type": "stream",
     "text": [
      "Checking the Training on a Single Batch...\n",
      "Epoch  1, CIFAR-10 Batch 1:  Loss: 1.7412199974060059, Accuracy: 0.41839998960494995\n",
      "Epoch  2, CIFAR-10 Batch 1:  Loss: 1.47367525100708, Accuracy: 0.47359994053840637\n",
      "Epoch  3, CIFAR-10 Batch 1:  Loss: 1.1900101900100708, Accuracy: 0.5455999374389648\n",
      "Epoch  4, CIFAR-10 Batch 1:  Loss: 1.1678223609924316, Accuracy: 0.5467999577522278\n",
      "Epoch  5, CIFAR-10 Batch 1:  Loss: 0.8684540390968323, Accuracy: 0.5893998742103577\n",
      "Epoch  6, CIFAR-10 Batch 1:  Loss: 0.7158615589141846, Accuracy: 0.5881999135017395\n",
      "Epoch  7, CIFAR-10 Batch 1:  Loss: 0.6416467428207397, Accuracy: 0.579599916934967\n",
      "Epoch  8, CIFAR-10 Batch 1:  Loss: 0.4853428602218628, Accuracy: 0.5657999515533447\n",
      "Epoch  9, CIFAR-10 Batch 1:  Loss: 0.30656057596206665, Accuracy: 0.5779998898506165\n",
      "Epoch 10, CIFAR-10 Batch 1:  Loss: 0.25391072034835815, Accuracy: 0.5949999094009399\n",
      "Epoch 11, CIFAR-10 Batch 1:  Loss: 0.14649686217308044, Accuracy: 0.6095998883247375\n",
      "Epoch 12, CIFAR-10 Batch 1:  Loss: 0.06466247886419296, Accuracy: 0.6155998706817627\n",
      "Epoch 13, CIFAR-10 Batch 1:  Loss: 0.032734960317611694, Accuracy: 0.6281999349594116\n",
      "Epoch 14, CIFAR-10 Batch 1:  Loss: 0.028588538989424706, Accuracy: 0.619999885559082\n",
      "Epoch 15, CIFAR-10 Batch 1:  Loss: 0.022202417254447937, Accuracy: 0.6335998773574829\n",
      "Epoch 16, CIFAR-10 Batch 1:  Loss: 0.02838628739118576, Accuracy: 0.608199954032898\n",
      "Epoch 17, CIFAR-10 Batch 1:  Loss: 0.005193842574954033, Accuracy: 0.6341999173164368\n",
      "Epoch 18, CIFAR-10 Batch 1:  Loss: 0.012882126495242119, Accuracy: 0.6189998984336853\n",
      "Epoch 19, CIFAR-10 Batch 1:  Loss: 0.007009146735072136, Accuracy: 0.6251999139785767\n",
      "Epoch 20, CIFAR-10 Batch 1:  Loss: 0.008551795035600662, Accuracy: 0.6245998740196228\n",
      "Epoch 21, CIFAR-10 Batch 1:  Loss: 0.007290085777640343, Accuracy: 0.6111999750137329\n",
      "Epoch 22, CIFAR-10 Batch 1:  Loss: 0.002093564486131072, Accuracy: 0.6359999179840088\n",
      "Epoch 23, CIFAR-10 Batch 1:  Loss: 0.00395793654024601, Accuracy: 0.6263998746871948\n",
      "Epoch 24, CIFAR-10 Batch 1:  Loss: 0.0015165744116529822, Accuracy: 0.6345999240875244\n",
      "Epoch 25, CIFAR-10 Batch 1:  Loss: 0.008687533438205719, Accuracy: 0.6129998564720154\n"
     ]
    },
    {
     "data": {
      "image/png": "[encoded data removed]",
      "text/plain": [
       "<matplotlib.figure.Figure at 0x7f5d7774c2b0>"
      ]
     },
     "metadata": {
      "image/png": {
       "height": 279,
       "width": 423
      }
     },
     "output_type": "display_data"
    }
   ],
   "source": [
    "# ----- START: CHANGED -----\n",
    "import matplotlib.pyplot as plt\n",
    "\n",
    "x_axis = []\n",
    "y_loss = []\n",
    "y_acc = []\n",
    "# ----- END: CHANGED -----\n",
    "\n",
    "\"\"\"\n",
    "DON'T MODIFY ANYTHING IN THIS CELL\n",
    "\"\"\"\n",
    "print('Checking the Training on a Single Batch...')\n",
    "with tf.Session() as sess:\n",
    "    # Initializing the variables\n",
    "    sess.run(tf.global_variables_initializer())\n",
    "    \n",
    "    # Training cycle\n",
    "    for epoch in range(epochs):\n",
    "        batch_i = 1\n",
    "        for batch_features, batch_labels in helper.load_preprocess_training_batch(batch_i, batch_size):\n",
    "            train_neural_network(sess, optimizer, keep_probability, batch_features, batch_labels)\n",
    "        print('Epoch {:>2}, CIFAR-10 Batch {}:  '.format(epoch + 1, batch_i), end='')\n",
    "        loss, validation_accuracy = print_stats(sess, batch_features, batch_labels, cost, accuracy)\n",
    "        \n",
    "        # ----- START: CHANGED -----\n",
    "        x_axis.append(epoch)\n",
    "        y_loss.append(loss)\n",
    "        y_acc.append(validation_accuracy)\n",
    "        \n",
    "loss_plot = plt.subplot(211)\n",
    "loss_plot.set_title('Loss')\n",
    "loss_plot.plot(x_axis, y_loss, 'g')\n",
    "loss_plot.set_xlim([x_axis[0], x_axis[-1]])\n",
    "\n",
    "acc_plot = plt.subplot(212)\n",
    "acc_plot.set_title('Accuracy')\n",
    "acc_plot.plot(x_axis, y_acc, 'g')\n",
    "acc_plot.set_ylim([0, 1.0])\n",
    "acc_plot.set_xlim([x_axis[0], x_axis[-1]])\n",
    "plt.tight_layout()\n",
    "plt.show()\n",
    "# ----- END: CHANGED -----"
   ]
  },
  {
   "cell_type": "markdown",
   "metadata": {},
   "source": [
    "### Fully Train the Model\n",
    "Now that you got a good accuracy with a single CIFAR-10 batch, try it with all five batches."
   ]
  },
  {
   "cell_type": "code",
   "execution_count": 17,
   "metadata": {
    "collapsed": false
   },
   "outputs": [
    {
     "name": "stdout",
     "output_type": "stream",
     "text": [
      "Training...\n",
      "Epoch  1, CIFAR-10 Batch 1:  Loss: 1.807207703590393, Accuracy: 0.3901999890804291\n",
      "Epoch  1, CIFAR-10 Batch 2:  Loss: 1.3431302309036255, Accuracy: 0.4893999993801117\n",
      "Epoch  1, CIFAR-10 Batch 3:  Loss: 0.991582989692688, Accuracy: 0.553399920463562\n",
      "Epoch  1, CIFAR-10 Batch 4:  Loss: 1.071626901626587, Accuracy: 0.5871999263763428\n",
      "Epoch  1, CIFAR-10 Batch 5:  Loss: 1.0505187511444092, Accuracy: 0.6043999195098877\n",
      "Epoch  2, CIFAR-10 Batch 1:  Loss: 1.2841451168060303, Accuracy: 0.5831999182701111\n",
      "Epoch  2, CIFAR-10 Batch 2:  Loss: 0.8209515810012817, Accuracy: 0.647199809551239\n",
      "Epoch  2, CIFAR-10 Batch 3:  Loss: 0.6155598759651184, Accuracy: 0.6591998934745789\n",
      "Epoch  2, CIFAR-10 Batch 4:  Loss: 0.7481889724731445, Accuracy: 0.6663998961448669\n",
      "Epoch  2, CIFAR-10 Batch 5:  Loss: 0.7259404063224792, Accuracy: 0.6817998290061951\n",
      "Epoch  3, CIFAR-10 Batch 1:  Loss: 0.895472526550293, Accuracy: 0.6909998059272766\n",
      "Epoch  3, CIFAR-10 Batch 2:  Loss: 0.6346936821937561, Accuracy: 0.6683998703956604\n",
      "Epoch  3, CIFAR-10 Batch 3:  Loss: 0.3889220058917999, Accuracy: 0.7145998477935791\n",
      "Epoch  3, CIFAR-10 Batch 4:  Loss: 0.5060855746269226, Accuracy: 0.7101998925209045\n",
      "Epoch  3, CIFAR-10 Batch 5:  Loss: 0.5161306858062744, Accuracy: 0.6945998072624207\n",
      "Epoch  4, CIFAR-10 Batch 1:  Loss: 0.6557592153549194, Accuracy: 0.7111998200416565\n",
      "Epoch  4, CIFAR-10 Batch 2:  Loss: 0.40897423028945923, Accuracy: 0.6937999129295349\n",
      "Epoch  4, CIFAR-10 Batch 3:  Loss: 0.2932184636592865, Accuracy: 0.7265998721122742\n",
      "Epoch  4, CIFAR-10 Batch 4:  Loss: 0.3687598407268524, Accuracy: 0.7163998484611511\n",
      "Epoch  4, CIFAR-10 Batch 5:  Loss: 0.3329557478427887, Accuracy: 0.7167998552322388\n",
      "Epoch  5, CIFAR-10 Batch 1:  Loss: 0.5189899206161499, Accuracy: 0.7171998620033264\n",
      "Epoch  5, CIFAR-10 Batch 2:  Loss: 0.35605528950691223, Accuracy: 0.7057998776435852\n",
      "Epoch  5, CIFAR-10 Batch 3:  Loss: 0.17006604373455048, Accuracy: 0.7331998348236084\n",
      "Epoch  5, CIFAR-10 Batch 4:  Loss: 0.2250276505947113, Accuracy: 0.7211998701095581\n",
      "Epoch  5, CIFAR-10 Batch 5:  Loss: 0.2741217315196991, Accuracy: 0.7141998410224915\n",
      "Epoch  6, CIFAR-10 Batch 1:  Loss: 0.361023485660553, Accuracy: 0.7147998809814453\n",
      "Epoch  6, CIFAR-10 Batch 2:  Loss: 0.17284682393074036, Accuracy: 0.7355998754501343\n",
      "Epoch  6, CIFAR-10 Batch 3:  Loss: 0.08526495099067688, Accuracy: 0.7485998272895813\n",
      "Epoch  6, CIFAR-10 Batch 4:  Loss: 0.12584450840950012, Accuracy: 0.7261998653411865\n",
      "Epoch  6, CIFAR-10 Batch 5:  Loss: 0.09818898141384125, Accuracy: 0.7407998442649841\n",
      "Epoch  7, CIFAR-10 Batch 1:  Loss: 0.2112935483455658, Accuracy: 0.701999843120575\n",
      "Epoch  7, CIFAR-10 Batch 2:  Loss: 0.07495493441820145, Accuracy: 0.7363998293876648\n",
      "Epoch  7, CIFAR-10 Batch 3:  Loss: 0.0556737445294857, Accuracy: 0.7243998646736145\n",
      "Epoch  7, CIFAR-10 Batch 4:  Loss: 0.05888519808650017, Accuracy: 0.7269998788833618\n",
      "Epoch  7, CIFAR-10 Batch 5:  Loss: 0.11291472613811493, Accuracy: 0.72819983959198\n",
      "Epoch  8, CIFAR-10 Batch 1:  Loss: 0.08894676715135574, Accuracy: 0.7209997773170471\n",
      "Epoch  8, CIFAR-10 Batch 2:  Loss: 0.0783759355545044, Accuracy: 0.7279998660087585\n",
      "Epoch  8, CIFAR-10 Batch 3:  Loss: 0.053791847079992294, Accuracy: 0.7331998348236084\n",
      "Epoch  8, CIFAR-10 Batch 4:  Loss: 0.12001971900463104, Accuracy: 0.7331998348236084\n",
      "Epoch  8, CIFAR-10 Batch 5:  Loss: 0.05625390261411667, Accuracy: 0.7231999039649963\n",
      "Epoch  9, CIFAR-10 Batch 1:  Loss: 0.0697929710149765, Accuracy: 0.7181998491287231\n",
      "Epoch  9, CIFAR-10 Batch 2:  Loss: 0.025567451491951942, Accuracy: 0.7319998145103455\n",
      "Epoch  9, CIFAR-10 Batch 3:  Loss: 0.041693057864904404, Accuracy: 0.7343998551368713\n",
      "Epoch  9, CIFAR-10 Batch 4:  Loss: 0.060234397649765015, Accuracy: 0.7433997988700867\n",
      "Epoch  9, CIFAR-10 Batch 5:  Loss: 0.06348306685686111, Accuracy: 0.7375998497009277\n",
      "Epoch 10, CIFAR-10 Batch 1:  Loss: 0.051875077188014984, Accuracy: 0.7389998435974121\n",
      "Epoch 10, CIFAR-10 Batch 2:  Loss: 0.04358811676502228, Accuracy: 0.7193998098373413\n",
      "Epoch 10, CIFAR-10 Batch 3:  Loss: 0.022421322762966156, Accuracy: 0.7445998787879944\n",
      "Epoch 10, CIFAR-10 Batch 4:  Loss: 0.03264850378036499, Accuracy: 0.7327998280525208\n",
      "Epoch 10, CIFAR-10 Batch 5:  Loss: 0.03939829394221306, Accuracy: 0.7225998640060425\n",
      "Epoch 11, CIFAR-10 Batch 1:  Loss: 0.02607455663383007, Accuracy: 0.7373998165130615\n",
      "Epoch 11, CIFAR-10 Batch 2:  Loss: 0.016711298376321793, Accuracy: 0.7245998382568359\n",
      "Epoch 11, CIFAR-10 Batch 3:  Loss: 0.057304270565509796, Accuracy: 0.7297998666763306\n",
      "Epoch 11, CIFAR-10 Batch 4:  Loss: 0.04131118208169937, Accuracy: 0.739599883556366\n",
      "Epoch 11, CIFAR-10 Batch 5:  Loss: 0.013514459133148193, Accuracy: 0.7245998382568359\n",
      "Epoch 12, CIFAR-10 Batch 1:  Loss: 0.05079425498843193, Accuracy: 0.7485997676849365\n",
      "Epoch 12, CIFAR-10 Batch 2:  Loss: 0.0067566861398518085, Accuracy: 0.7355998754501343\n",
      "Epoch 12, CIFAR-10 Batch 3:  Loss: 0.03717805817723274, Accuracy: 0.7499998807907104\n",
      "Epoch 12, CIFAR-10 Batch 4:  Loss: 0.015458870679140091, Accuracy: 0.7381998300552368\n",
      "Epoch 12, CIFAR-10 Batch 5:  Loss: 0.00500551238656044, Accuracy: 0.7323998212814331\n",
      "Epoch 13, CIFAR-10 Batch 1:  Loss: 0.02415057271718979, Accuracy: 0.738399863243103\n",
      "Epoch 13, CIFAR-10 Batch 2:  Loss: 0.006542215123772621, Accuracy: 0.7321998476982117\n",
      "Epoch 13, CIFAR-10 Batch 3:  Loss: 0.025054845958948135, Accuracy: 0.7367998361587524\n",
      "Epoch 13, CIFAR-10 Batch 4:  Loss: 0.01620892435312271, Accuracy: 0.747999906539917\n",
      "Epoch 13, CIFAR-10 Batch 5:  Loss: 0.01601504720747471, Accuracy: 0.7235998511314392\n",
      "Epoch 14, CIFAR-10 Batch 1:  Loss: 0.021518390625715256, Accuracy: 0.7477998733520508\n",
      "Epoch 14, CIFAR-10 Batch 2:  Loss: 0.00715920515358448, Accuracy: 0.748999834060669\n",
      "Epoch 14, CIFAR-10 Batch 3:  Loss: 0.0092678964138031, Accuracy: 0.7467998266220093\n",
      "Epoch 14, CIFAR-10 Batch 4:  Loss: 0.008278046734631062, Accuracy: 0.7487998604774475\n",
      "Epoch 14, CIFAR-10 Batch 5:  Loss: 0.0040938351303339005, Accuracy: 0.7307998538017273\n",
      "Epoch 15, CIFAR-10 Batch 1:  Loss: 0.023096423596143723, Accuracy: 0.7455998659133911\n",
      "Epoch 15, CIFAR-10 Batch 2:  Loss: 0.02713913284242153, Accuracy: 0.7411998510360718\n",
      "Epoch 15, CIFAR-10 Batch 3:  Loss: 0.030108781531453133, Accuracy: 0.7255998849868774\n",
      "Epoch 15, CIFAR-10 Batch 4:  Loss: 0.0074013108387589455, Accuracy: 0.7307997941970825\n",
      "Epoch 15, CIFAR-10 Batch 5:  Loss: 0.006168408319354057, Accuracy: 0.7189998626708984\n",
      "Epoch 16, CIFAR-10 Batch 1:  Loss: 0.021647119894623756, Accuracy: 0.7493998408317566\n",
      "Epoch 16, CIFAR-10 Batch 2:  Loss: 0.010364361107349396, Accuracy: 0.7463998794555664\n",
      "Epoch 16, CIFAR-10 Batch 3:  Loss: 0.008284343406558037, Accuracy: 0.7485998272895813\n",
      "Epoch 16, CIFAR-10 Batch 4:  Loss: 0.015898140147328377, Accuracy: 0.7379998564720154\n",
      "Epoch 16, CIFAR-10 Batch 5:  Loss: 0.011523730121552944, Accuracy: 0.7423999309539795\n",
      "Epoch 17, CIFAR-10 Batch 1:  Loss: 0.012122238986194134, Accuracy: 0.7521998286247253\n",
      "Epoch 17, CIFAR-10 Batch 2:  Loss: 0.023846246302127838, Accuracy: 0.7435998916625977\n",
      "Epoch 17, CIFAR-10 Batch 3:  Loss: 0.015375535935163498, Accuracy: 0.7383999228477478\n",
      "Epoch 17, CIFAR-10 Batch 4:  Loss: 0.010474100708961487, Accuracy: 0.734799861907959\n",
      "Epoch 17, CIFAR-10 Batch 5:  Loss: 0.007338201627135277, Accuracy: 0.7451998591423035\n",
      "Epoch 18, CIFAR-10 Batch 1:  Loss: 0.0033588330261409283, Accuracy: 0.7525998950004578\n",
      "Epoch 18, CIFAR-10 Batch 2:  Loss: 0.013326778076589108, Accuracy: 0.7469998002052307\n",
      "Epoch 18, CIFAR-10 Batch 3:  Loss: 0.008246508426964283, Accuracy: 0.7449998259544373\n",
      "Epoch 18, CIFAR-10 Batch 4:  Loss: 0.006349049508571625, Accuracy: 0.7427998781204224\n",
      "Epoch 18, CIFAR-10 Batch 5:  Loss: 0.0032746843062341213, Accuracy: 0.7515998482704163\n",
      "Epoch 19, CIFAR-10 Batch 1:  Loss: 0.03460126742720604, Accuracy: 0.7509998083114624\n",
      "Epoch 19, CIFAR-10 Batch 2:  Loss: 0.002290025819092989, Accuracy: 0.7425997853279114\n",
      "Epoch 19, CIFAR-10 Batch 3:  Loss: 0.006240165792405605, Accuracy: 0.7475997805595398\n",
      "Epoch 19, CIFAR-10 Batch 4:  Loss: 0.004724313970655203, Accuracy: 0.7471997737884521\n",
      "Epoch 19, CIFAR-10 Batch 5:  Loss: 0.004073168616741896, Accuracy: 0.7443998456001282\n",
      "Epoch 20, CIFAR-10 Batch 1:  Loss: 0.0023610303178429604, Accuracy: 0.7511998414993286\n",
      "Epoch 20, CIFAR-10 Batch 2:  Loss: 0.007056135218590498, Accuracy: 0.74319988489151\n",
      "Epoch 20, CIFAR-10 Batch 3:  Loss: 0.01853782683610916, Accuracy: 0.745999813079834\n",
      "Epoch 20, CIFAR-10 Batch 4:  Loss: 0.008724108338356018, Accuracy: 0.7471997737884521\n",
      "Epoch 20, CIFAR-10 Batch 5:  Loss: 0.026280011981725693, Accuracy: 0.7539997696876526\n",
      "Epoch 21, CIFAR-10 Batch 1:  Loss: 0.029421359300613403, Accuracy: 0.7485997676849365\n",
      "Epoch 21, CIFAR-10 Batch 2:  Loss: 0.0032464093528687954, Accuracy: 0.7383998036384583\n",
      "Epoch 21, CIFAR-10 Batch 3:  Loss: 0.0006711045862175524, Accuracy: 0.7431998252868652\n",
      "Epoch 21, CIFAR-10 Batch 4:  Loss: 0.009187397547066212, Accuracy: 0.7473998069763184\n",
      "Epoch 21, CIFAR-10 Batch 5:  Loss: 0.0007861217600293458, Accuracy: 0.7529999017715454\n",
      "Epoch 22, CIFAR-10 Batch 1:  Loss: 0.0012704787077382207, Accuracy: 0.7563998103141785\n",
      "Epoch 22, CIFAR-10 Batch 2:  Loss: 0.0016837401781231165, Accuracy: 0.7343998551368713\n",
      "Epoch 22, CIFAR-10 Batch 3:  Loss: 0.0024090022780001163, Accuracy: 0.7539998292922974\n",
      "Epoch 22, CIFAR-10 Batch 4:  Loss: 0.010267946869134903, Accuracy: 0.739399790763855\n",
      "Epoch 22, CIFAR-10 Batch 5:  Loss: 0.001552612753584981, Accuracy: 0.7445998787879944\n",
      "Epoch 23, CIFAR-10 Batch 1:  Loss: 0.001903867581859231, Accuracy: 0.7409998178482056\n",
      "Epoch 23, CIFAR-10 Batch 2:  Loss: 0.001063231728039682, Accuracy: 0.7533998489379883\n",
      "Epoch 23, CIFAR-10 Batch 3:  Loss: 0.003488786518573761, Accuracy: 0.7291998267173767\n",
      "Epoch 23, CIFAR-10 Batch 4:  Loss: 0.0076094986870884895, Accuracy: 0.7321998476982117\n",
      "Epoch 23, CIFAR-10 Batch 5:  Loss: 0.02103765681385994, Accuracy: 0.7575998306274414\n",
      "Epoch 24, CIFAR-10 Batch 1:  Loss: 0.02934335544705391, Accuracy: 0.7419998645782471\n",
      "Epoch 24, CIFAR-10 Batch 2:  Loss: 0.0018817938398569822, Accuracy: 0.7389998435974121\n",
      "Epoch 24, CIFAR-10 Batch 3:  Loss: 0.012871929444372654, Accuracy: 0.756199836730957\n",
      "Epoch 24, CIFAR-10 Batch 4:  Loss: 0.01080375723540783, Accuracy: 0.7451997995376587\n",
      "Epoch 24, CIFAR-10 Batch 5:  Loss: 0.004022721201181412, Accuracy: 0.7551998496055603\n",
      "Epoch 25, CIFAR-10 Batch 1:  Loss: 0.001856361050158739, Accuracy: 0.744999885559082\n",
      "Epoch 25, CIFAR-10 Batch 2:  Loss: 0.0029221856966614723, Accuracy: 0.7459998726844788\n",
      "Epoch 25, CIFAR-10 Batch 3:  Loss: 0.00047350747627206147, Accuracy: 0.7551998496055603\n",
      "Epoch 25, CIFAR-10 Batch 4:  Loss: 0.000583420624025166, Accuracy: 0.7617998123168945\n",
      "Epoch 25, CIFAR-10 Batch 5:  Loss: 0.002376111689954996, Accuracy: 0.7491998672485352\n"
     ]
    }
   ],
   "source": [
    "\"\"\"\n",
    "DON'T MODIFY ANYTHING IN THIS CELL\n",
    "\"\"\"\n",
    "save_model_path = './image_classification'\n",
    "\n",
    "print('Training...')\n",
    "with tf.Session() as sess:\n",
    "    # Initializing the variables\n",
    "    sess.run(tf.global_variables_initializer())\n",
    "    \n",
    "    # Training cycle\n",
    "    for epoch in range(epochs):\n",
    "        # Loop over all batches\n",
    "        n_batches = 5\n",
    "        for batch_i in range(1, n_batches + 1):\n",
    "            for batch_features, batch_labels in helper.load_preprocess_training_batch(batch_i, batch_size):\n",
    "                train_neural_network(sess, optimizer, keep_probability, batch_features, batch_labels)\n",
    "            print('Epoch {:>2}, CIFAR-10 Batch {}:  '.format(epoch + 1, batch_i), end='')\n",
    "            print_stats(sess, batch_features, batch_labels, cost, accuracy)\n",
    "            \n",
    "    # Save Model\n",
    "    saver = tf.train.Saver()\n",
    "    save_path = saver.save(sess, save_model_path)"
   ]
  },
  {
   "cell_type": "markdown",
   "metadata": {},
   "source": [
    "# Checkpoint\n",
    "The model has been saved to disk.\n",
    "## Test Model\n",
    "Test your model against the test dataset.  This will be your final accuracy. You should have an accuracy greater than 50%. If you don't, keep tweaking the model architecture and parameters."
   ]
  },
  {
   "cell_type": "code",
   "execution_count": 19,
   "metadata": {
    "collapsed": false
   },
   "outputs": [
    {
     "name": "stdout",
     "output_type": "stream",
     "text": [
      "Testing Accuracy: 0.7431329617834395\n",
      "\n"
     ]
    },
    {
     "data": {
      "image/png": "[encoded data removed]",
      "text/plain": [
       "<matplotlib.figure.Figure at 0x7f5d1e740588>"
      ]
     },
     "metadata": {
      "image/png": {
       "height": 319,
       "width": 355
      }
     },
     "output_type": "display_data"
    }
   ],
   "source": [
    "\"\"\"\n",
    "DON'T MODIFY ANYTHING IN THIS CELL\n",
    "\"\"\"\n",
    "%matplotlib inline\n",
    "%config InlineBackend.figure_format = 'retina'\n",
    "\n",
    "import tensorflow as tf\n",
    "import pickle\n",
    "import helper\n",
    "import random\n",
    "\n",
    "# Set batch size if not already set\n",
    "try:\n",
    "    if batch_size:\n",
    "        pass\n",
    "except NameError:\n",
    "    batch_size = 64\n",
    "\n",
    "save_model_path = './image_classification'\n",
    "n_samples = 4\n",
    "top_n_predictions = 3\n",
    "\n",
    "def test_model():\n",
    "    \"\"\"\n",
    "    Test the saved model against the test dataset\n",
    "    \"\"\"\n",
    "\n",
    "    test_features, test_labels = pickle.load(open('preprocess_test.p', mode='rb'))\n",
    "    loaded_graph = tf.Graph()\n",
    "\n",
    "    with tf.Session(graph=loaded_graph) as sess:\n",
    "        # Load model\n",
    "        loader = tf.train.import_meta_graph(save_model_path + '.meta')\n",
    "        loader.restore(sess, save_model_path)\n",
    "\n",
    "        # Get Tensors from loaded model\n",
    "        loaded_x = loaded_graph.get_tensor_by_name('x:0')\n",
    "        loaded_y = loaded_graph.get_tensor_by_name('y:0')\n",
    "        loaded_keep_prob = loaded_graph.get_tensor_by_name('keep_prob:0')\n",
    "        loaded_logits = loaded_graph.get_tensor_by_name('logits:0')\n",
    "        loaded_acc = loaded_graph.get_tensor_by_name('accuracy:0')\n",
    "        \n",
    "        # Get accuracy in batches for memory limitations\n",
    "        test_batch_acc_total = 0\n",
    "        test_batch_count = 0\n",
    "        \n",
    "        for test_feature_batch, test_label_batch in helper.batch_features_labels(test_features, test_labels, batch_size):\n",
    "            test_batch_acc_total += sess.run(\n",
    "                loaded_acc,\n",
    "                feed_dict={loaded_x: test_feature_batch, loaded_y: test_label_batch, loaded_keep_prob: 1.0})\n",
    "            test_batch_count += 1\n",
    "\n",
    "        print('Testing Accuracy: {}\\n'.format(test_batch_acc_total/test_batch_count))\n",
    "\n",
    "        # Print Random Samples\n",
    "        random_test_features, random_test_labels = tuple(zip(*random.sample(list(zip(test_features, test_labels)), n_samples)))\n",
    "        random_test_predictions = sess.run(\n",
    "            tf.nn.top_k(tf.nn.softmax(loaded_logits), top_n_predictions),\n",
    "            feed_dict={loaded_x: random_test_features, loaded_y: random_test_labels, loaded_keep_prob: 1.0})\n",
    "        helper.display_image_predictions(random_test_features, random_test_labels, random_test_predictions)\n",
    "\n",
    "\n",
    "test_model()"
   ]
  },
  {
   "cell_type": "markdown",
   "metadata": {},
   "source": [
    "## Why 50-80% Accuracy?\n",
    "You might be wondering why you can't get an accuracy any higher. First things first, 50% isn't bad for a simple CNN.  Pure guessing would get you 10% accuracy. However, you might notice people are getting scores [well above 80%](http://rodrigob.github.io/are_we_there_yet/build/classification_datasets_results.html#43494641522d3130).  That's because we haven't taught you all there is to know about neural networks. We still need to cover a few more techniques.\n",
    "## Submitting This Project\n",
    "When submitting this project, make sure to run all the cells before saving the notebook.  Save the notebook file as \"dlnd_image_classification.ipynb\" and save it as a HTML file under \"File\" -> \"Download as\".  Include the \"helper.py\" and \"problem_unittests.py\" files in your submission."
   ]
  }
 ],
 "metadata": {
  "anaconda-cloud": {},
  "kernelspec": {
   "display_name": "Python [conda env:dl]",
   "language": "python",
   "name": "conda-env-dl-py"
  },
  "language_info": {
   "codemirror_mode": {
    "name": "ipython",
    "version": 3
   },
   "file_extension": ".py",
   "mimetype": "text/x-python",
   "name": "python",
   "nbconvert_exporter": "python",
   "pygments_lexer": "ipython3",
   "version": "3.5.2"
  }
 },
 "nbformat": 4,
 "nbformat_minor": 1
}
