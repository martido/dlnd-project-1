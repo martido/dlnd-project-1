{
 "cells": [
  {
   "cell_type": "markdown",
   "metadata": {},
   "source": [
    "# TV Script Generation\n",
    "In this project, you'll generate your own [Simpsons](https://en.wikipedia.org/wiki/The_Simpsons) TV scripts using RNNs.  You'll be using part of the [Simpsons dataset](https://www.kaggle.com/wcukierski/the-simpsons-by-the-data) of scripts from 27 seasons.  The Neural Network you'll build will generate a new TV script for a scene at [Moe's Tavern](https://simpsonswiki.com/wiki/Moe's_Tavern).\n",
    "## Get the Data\n",
    "The data is already provided for you.  You'll be using a subset of the original dataset.  It consists of only the scenes in Moe's Tavern.  This doesn't include other versions of the tavern, like \"Moe's Cavern\", \"Flaming Moe's\", \"Uncle Moe's Family Feed-Bag\", etc.."
   ]
  },
  {
   "cell_type": "code",
   "execution_count": 1,
   "metadata": {
    "collapsed": true
   },
   "outputs": [],
   "source": [
    "\"\"\"\n",
    "DON'T MODIFY ANYTHING IN THIS CELL\n",
    "\"\"\"\n",
    "import helper\n",
    "\n",
    "data_dir = './data/simpsons/moes_tavern_lines.txt'\n",
    "text = helper.load_data(data_dir)\n",
    "# Ignore notice, since we don't use it for analysing the data\n",
    "text = text[81:]"
   ]
  },
  {
   "cell_type": "markdown",
   "metadata": {},
   "source": [
    "## Explore the Data\n",
    "Play around with `view_sentence_range` to view different parts of the data."
   ]
  },
  {
   "cell_type": "code",
   "execution_count": 2,
   "metadata": {
    "scrolled": true
   },
   "outputs": [
    {
     "name": "stdout",
     "output_type": "stream",
     "text": [
      "Dataset Stats\n",
      "Roughly the number of unique words: 11492\n",
      "Number of scenes: 262\n",
      "Average number of sentences in each scene: 15.248091603053435\n",
      "Number of lines: 4257\n",
      "Average number of words in each line: 11.50434578341555\n",
      "\n",
      "The sentences 0 to 10:\n",
      "Moe_Szyslak: (INTO PHONE) Moe's Tavern. Where the elite meet to drink.\n",
      "Bart_Simpson: Eh, yeah, hello, is Mike there? Last name, Rotch.\n",
      "Moe_Szyslak: (INTO PHONE) Hold on, I'll check. (TO BARFLIES) Mike Rotch. Mike Rotch. Hey, has anybody seen Mike Rotch, lately?\n",
      "Moe_Szyslak: (INTO PHONE) Listen you little puke. One of these days I'm gonna catch you, and I'm gonna carve my name on your back with an ice pick.\n",
      "Moe_Szyslak: What's the matter Homer? You're not your normal effervescent self.\n",
      "Homer_Simpson: I got my problems, Moe. Give me another one.\n",
      "Moe_Szyslak: Homer, hey, you should not drink to forget your problems.\n",
      "Barney_Gumble: Yeah, you should only drink to enhance your social skills.\n",
      "\n",
      "\n"
     ]
    }
   ],
   "source": [
    "view_sentence_range = (0, 10)\n",
    "\n",
    "\"\"\"\n",
    "DON'T MODIFY ANYTHING IN THIS CELL\n",
    "\"\"\"\n",
    "import numpy as np\n",
    "\n",
    "print('Dataset Stats')\n",
    "print('Roughly the number of unique words: {}'.format(len({word: None for word in text.split()})))\n",
    "scenes = text.split('\\n\\n')\n",
    "print('Number of scenes: {}'.format(len(scenes)))\n",
    "sentence_count_scene = [scene.count('\\n') for scene in scenes]\n",
    "print('Average number of sentences in each scene: {}'.format(np.average(sentence_count_scene)))\n",
    "\n",
    "sentences = [sentence for scene in scenes for sentence in scene.split('\\n')]\n",
    "print('Number of lines: {}'.format(len(sentences)))\n",
    "word_count_sentence = [len(sentence.split()) for sentence in sentences]\n",
    "print('Average number of words in each line: {}'.format(np.average(word_count_sentence)))\n",
    "\n",
    "print()\n",
    "print('The sentences {} to {}:'.format(*view_sentence_range))\n",
    "print('\\n'.join(text.split('\\n')[view_sentence_range[0]:view_sentence_range[1]]))"
   ]
  },
  {
   "cell_type": "markdown",
   "metadata": {},
   "source": [
    "## Implement Preprocessing Functions\n",
    "The first thing to do to any dataset is preprocessing.  Implement the following preprocessing functions below:\n",
    "- Lookup Table\n",
    "- Tokenize Punctuation\n",
    "\n",
    "### Lookup Table\n",
    "To create a word embedding, you first need to transform the words to ids.  In this function, create two dictionaries:\n",
    "- Dictionary to go from the words to an id, we'll call `vocab_to_int`\n",
    "- Dictionary to go from the id to word, we'll call `int_to_vocab`\n",
    "\n",
    "Return these dictionaries in the following tuple `(vocab_to_int, int_to_vocab)`"
   ]
  },
  {
   "cell_type": "code",
   "execution_count": 3,
   "metadata": {},
   "outputs": [
    {
     "name": "stdout",
     "output_type": "stream",
     "text": [
      "Length of text: 104\n",
      "Most frequent word: moe_szyslak=5\n",
      "ID of most frequent word: 0\n",
      "Tests Passed\n"
     ]
    }
   ],
   "source": [
    "import numpy as np\n",
    "import problem_unittests as tests\n",
    "from collections import Counter\n",
    "\n",
    "def create_lookup_tables(text):\n",
    "    \"\"\"\n",
    "    Create lookup tables for vocabulary\n",
    "    :param text: The text of tv scripts split into words\n",
    "    :return: A tuple of dicts (vocab_to_int, int_to_vocab)\n",
    "    \"\"\"\n",
    "    counts = Counter(text)\n",
    "    vocab = sorted(counts, key=counts.get, reverse=True)\n",
    "    top_word = vocab[0]\n",
    "    vocab_to_int = {w: i for i, w in enumerate(vocab)}\n",
    "    int_to_vocab = dict(enumerate(vocab))\n",
    "    \n",
    "    print(\"Length of text: {}\".format(len(text)))\n",
    "    print(\"Most frequent word: {}={}\".format(top_word, counts[top_word]))\n",
    "    print(\"ID of most frequent word: {}\".format(vocab_to_int[top_word]))\n",
    "    \n",
    "    return vocab_to_int, int_to_vocab\n",
    "\n",
    "\n",
    "\"\"\"\n",
    "DON'T MODIFY ANYTHING IN THIS CELL THAT IS BELOW THIS LINE\n",
    "\"\"\"\n",
    "tests.test_create_lookup_tables(create_lookup_tables)"
   ]
  },
  {
   "cell_type": "markdown",
   "metadata": {},
   "source": [
    "### Tokenize Punctuation\n",
    "We'll be splitting the script into a word array using spaces as delimiters.  However, punctuations like periods and exclamation marks make it hard for the neural network to distinguish between the word \"bye\" and \"bye!\".\n",
    "\n",
    "Implement the function `token_lookup` to return a dict that will be used to tokenize symbols like \"!\" into \"||Exclamation_Mark||\".  Create a dictionary for the following symbols where the symbol is the key and value is the token:\n",
    "- Period ( . )\n",
    "- Comma ( , )\n",
    "- Quotation Mark ( \" )\n",
    "- Semicolon ( ; )\n",
    "- Exclamation mark ( ! )\n",
    "- Question mark ( ? )\n",
    "- Left Parentheses ( ( )\n",
    "- Right Parentheses ( ) )\n",
    "- Dash ( -- )\n",
    "- Return ( \\n )\n",
    "\n",
    "This dictionary will be used to token the symbols and add the delimiter (space) around it.  This separates the symbols as it's own word, making it easier for the neural network to predict on the next word. Make sure you don't use a token that could be confused as a word. Instead of using the token \"dash\", try using something like \"||dash||\"."
   ]
  },
  {
   "cell_type": "code",
   "execution_count": 4,
   "metadata": {},
   "outputs": [
    {
     "name": "stdout",
     "output_type": "stream",
     "text": [
      "Tests Passed\n"
     ]
    }
   ],
   "source": [
    "def token_lookup():\n",
    "    \"\"\"\n",
    "    Generate a dict to turn punctuation into a token.\n",
    "    :return: Tokenize dictionary where the key is the punctuation and the value is the token\n",
    "    \"\"\"\n",
    "    tokens = {\n",
    "        '.'  : \"Period\",\n",
    "        ','  : \"Comma\",\n",
    "        '\"'  : \"Quotation_Mark\",\n",
    "        ';'  : \"Semicolon\",\n",
    "        '!'  : \"Exclamation_Mark\",\n",
    "        '?'  : \"Question_Mark\",\n",
    "        '('  : \"Left_Parentheses\",\n",
    "        ')'  : \"Right_Parentheses\",\n",
    "        '--' : \"Dash\",\n",
    "        '\\n' : \"Return\"\n",
    "    }\n",
    "    return tokens\n",
    "\n",
    "\"\"\"\n",
    "DON'T MODIFY ANYTHING IN THIS CELL THAT IS BELOW THIS LINE\n",
    "\"\"\"\n",
    "tests.test_tokenize(token_lookup)"
   ]
  },
  {
   "cell_type": "markdown",
   "metadata": {},
   "source": [
    "## Preprocess all the data and save it\n",
    "Running the code cell below will preprocess all the data and save it to file."
   ]
  },
  {
   "cell_type": "code",
   "execution_count": 5,
   "metadata": {},
   "outputs": [
    {
     "name": "stdout",
     "output_type": "stream",
     "text": [
      "Length of text: 69100\n",
      "Most frequent word: period=6025\n",
      "ID of most frequent word: 0\n"
     ]
    }
   ],
   "source": [
    "\"\"\"\n",
    "DON'T MODIFY ANYTHING IN THIS CELL\n",
    "\"\"\"\n",
    "# Preprocess Training, Validation, and Testing Data\n",
    "helper.preprocess_and_save_data(data_dir, token_lookup, create_lookup_tables)"
   ]
  },
  {
   "cell_type": "markdown",
   "metadata": {},
   "source": [
    "# Check Point\n",
    "This is your first checkpoint. If you ever decide to come back to this notebook or have to restart the notebook, you can start from here. The preprocessed data has been saved to disk."
   ]
  },
  {
   "cell_type": "code",
   "execution_count": 6,
   "metadata": {
    "collapsed": true
   },
   "outputs": [],
   "source": [
    "\"\"\"\n",
    "DON'T MODIFY ANYTHING IN THIS CELL\n",
    "\"\"\"\n",
    "import helper\n",
    "import numpy as np\n",
    "import problem_unittests as tests\n",
    "\n",
    "int_text, vocab_to_int, int_to_vocab, token_dict = helper.load_preprocess()"
   ]
  },
  {
   "cell_type": "markdown",
   "metadata": {},
   "source": [
    "## Build the Neural Network\n",
    "You'll build the components necessary to build a RNN by implementing the following functions below:\n",
    "- get_inputs\n",
    "- get_init_cell\n",
    "- get_embed\n",
    "- build_rnn\n",
    "- build_nn\n",
    "- get_batches\n",
    "\n",
    "### Check the Version of TensorFlow and Access to GPU"
   ]
  },
  {
   "cell_type": "code",
   "execution_count": 7,
   "metadata": {},
   "outputs": [
    {
     "name": "stdout",
     "output_type": "stream",
     "text": [
      "TensorFlow Version: 1.0.0\n",
      "Default GPU Device: /gpu:0\n"
     ]
    }
   ],
   "source": [
    "\"\"\"\n",
    "DON'T MODIFY ANYTHING IN THIS CELL\n",
    "\"\"\"\n",
    "from distutils.version import LooseVersion\n",
    "import warnings\n",
    "import tensorflow as tf\n",
    "\n",
    "# Check TensorFlow Version\n",
    "assert LooseVersion(tf.__version__) >= LooseVersion('1.0'), 'Please use TensorFlow version 1.0 or newer'\n",
    "print('TensorFlow Version: {}'.format(tf.__version__))\n",
    "\n",
    "# Check for a GPU\n",
    "if not tf.test.gpu_device_name():\n",
    "    warnings.warn('No GPU found. Please use a GPU to train your neural network.')\n",
    "else:\n",
    "    print('Default GPU Device: {}'.format(tf.test.gpu_device_name()))"
   ]
  },
  {
   "cell_type": "markdown",
   "metadata": {},
   "source": [
    "### Input\n",
    "Implement the `get_inputs()` function to create TF Placeholders for the Neural Network.  It should create the following placeholders:\n",
    "- Input text placeholder named \"input\" using the [TF Placeholder](https://www.tensorflow.org/api_docs/python/tf/placeholder) `name` parameter.\n",
    "- Targets placeholder\n",
    "- Learning Rate placeholder\n",
    "\n",
    "Return the placeholders in the following tuple `(Input, Targets, LearningRate)`"
   ]
  },
  {
   "cell_type": "code",
   "execution_count": 8,
   "metadata": {},
   "outputs": [
    {
     "name": "stdout",
     "output_type": "stream",
     "text": [
      "Tests Passed\n"
     ]
    }
   ],
   "source": [
    "def get_inputs():\n",
    "    \"\"\"\n",
    "    Create TF Placeholders for input, targets, and learning rate.\n",
    "    :return: Tuple (input, targets, learning rate)\n",
    "    \"\"\"\n",
    "    \n",
    "    # print(\"get_inputs()\")\n",
    "    # print(\"------------\")\n",
    "    \n",
    "    input = tf.placeholder(tf.int32, [None, None], name='input')\n",
    "    targets = tf.placeholder(tf.int32, [None, None], name='targets')\n",
    "    learning_rate = tf.placeholder(tf.float32, name='learning_rate')\n",
    "    \n",
    "    return input, targets, learning_rate\n",
    "\n",
    "\n",
    "\"\"\"\n",
    "DON'T MODIFY ANYTHING IN THIS CELL THAT IS BELOW THIS LINE\n",
    "\"\"\"\n",
    "tests.test_get_inputs(get_inputs)"
   ]
  },
  {
   "cell_type": "markdown",
   "metadata": {},
   "source": [
    "### Build RNN Cell and Initialize\n",
    "Stack one or more [`BasicLSTMCells`](https://www.tensorflow.org/api_docs/python/tf/contrib/rnn/BasicLSTMCell) in a [`MultiRNNCell`](https://www.tensorflow.org/api_docs/python/tf/contrib/rnn/MultiRNNCell).\n",
    "- The Rnn size should be set using `rnn_size`\n",
    "- Initalize Cell State using the MultiRNNCell's [`zero_state()`](https://www.tensorflow.org/api_docs/python/tf/contrib/rnn/MultiRNNCell#zero_state) function\n",
    "    - Apply the name \"initial_state\" to the initial state using [`tf.identity()`](https://www.tensorflow.org/api_docs/python/tf/identity)\n",
    "\n",
    "Return the cell and initial state in the following tuple `(Cell, InitialState)`"
   ]
  },
  {
   "cell_type": "code",
   "execution_count": 9,
   "metadata": {},
   "outputs": [
    {
     "name": "stdout",
     "output_type": "stream",
     "text": [
      "Tests Passed\n"
     ]
    }
   ],
   "source": [
    "# The number of layers of LSTM cells.\n",
    "lstm_layers = 1\n",
    "\n",
    "# CHANGED: I'm passing lstm_layers to get_init_cell() to be able to control it more directly.\n",
    "def get_init_cell(batch_size, rnn_size, num_lstm_layers=None):\n",
    "    \"\"\"\n",
    "    Create an RNN Cell and initialize it.\n",
    "    :param batch_size: Size of batches\n",
    "    :param rnn_size: Size of RNNs\n",
    "    :return: Tuple (cell, initialize state)\n",
    "    \"\"\"\n",
    "    global lstm_layers\n",
    "    \n",
    "    # print(\"get_init_cell()\")\n",
    "    # print(\"---------------\")\n",
    "    # print(\"batch_size: {}\".format(batch_size))\n",
    "    # print(\"rnn_size: {}\".format(rnn_size))\n",
    "    # print(\"lstm_layers: {}\".format(num_lstm_layers))\n",
    "    \n",
    "    if num_lstm_layers:\n",
    "        lstm_layers = num_lstm_layers\n",
    "    \n",
    "    lstm = tf.contrib.rnn.BasicLSTMCell(num_units=rnn_size)\n",
    "    cell = tf.contrib.rnn.MultiRNNCell([lstm] * lstm_layers)\n",
    "    initial_state = tf.identity(cell.zero_state(batch_size, tf.float32), name=\"initial_state\")\n",
    "    \n",
    "    return cell, initial_state\n",
    "\n",
    "\n",
    "\"\"\"\n",
    "DON'T MODIFY ANYTHING IN THIS CELL THAT IS BELOW THIS LINE\n",
    "\"\"\"\n",
    "tests.test_get_init_cell(get_init_cell)"
   ]
  },
  {
   "cell_type": "markdown",
   "metadata": {},
   "source": [
    "### Word Embedding\n",
    "Apply embedding to `input_data` using TensorFlow.  Return the embedded sequence."
   ]
  },
  {
   "cell_type": "code",
   "execution_count": 10,
   "metadata": {},
   "outputs": [
    {
     "name": "stdout",
     "output_type": "stream",
     "text": [
      "Tests Passed\n"
     ]
    }
   ],
   "source": [
    "def get_embed(input_data, vocab_size, embed_dim):\n",
    "    \"\"\"\n",
    "    Create embedding for <input_data>.\n",
    "    :param input_data: TF placeholder for text input.\n",
    "    :param vocab_size: Number of words in vocabulary.\n",
    "    :param embed_dim: Number of embedding dimensions\n",
    "    :return: Embedded input.\n",
    "    \"\"\"\n",
    "    \n",
    "    # print(\"get_embed()\")\n",
    "    # print(\"-----------\")\n",
    "    # print(\"Input data: {}\".format(input_data))\n",
    "    # print(\"Vocabulary size: {}\".format(vocab_size))\n",
    "    # print(\"Embedding dimensions: {}\".format(embed_dim))\n",
    "    \n",
    "    # Create the weight matrix of the embedding layer.\n",
    "    # The size of the matrix is the number of words times number of hidden units = [vocab_size x embed_dim].\n",
    "    embedding = tf.Variable(tf.random_uniform((vocab_size, embed_dim), -1, 1))\n",
    "    embed = tf.nn.embedding_lookup(embedding, input_data) \n",
    "    \n",
    "    # print(\"Embedding tensor: {}\".format(embed))\n",
    "    return embed\n",
    "\n",
    "\n",
    "\"\"\"\n",
    "DON'T MODIFY ANYTHING IN THIS CELL THAT IS BELOW THIS LINE\n",
    "\"\"\"\n",
    "tests.test_get_embed(get_embed)"
   ]
  },
  {
   "cell_type": "markdown",
   "metadata": {},
   "source": [
    "### Build RNN\n",
    "You created a RNN Cell in the `get_init_cell()` function.  Time to use the cell to create a RNN.\n",
    "- Build the RNN using the [`tf.nn.dynamic_rnn()`](https://www.tensorflow.org/api_docs/python/tf/nn/dynamic_rnn)\n",
    " - Apply the name \"final_state\" to the final state using [`tf.identity()`](https://www.tensorflow.org/api_docs/python/tf/identity)\n",
    "\n",
    "Return the outputs and final_state state in the following tuple `(Outputs, FinalState)` "
   ]
  },
  {
   "cell_type": "code",
   "execution_count": 11,
   "metadata": {},
   "outputs": [
    {
     "name": "stdout",
     "output_type": "stream",
     "text": [
      "Tests Passed\n"
     ]
    }
   ],
   "source": [
    "# I've added the parameter initial_state which was missing before.\n",
    "# No idea why we created it above, but are not using it here.\n",
    "# Also see: https://discussions.udacity.com/t/we-created-an-initial-state-in-get-init-cell-but-i-didnt-see-its-passed-into-the-rnn/250443.\n",
    "def build_rnn(cell, inputs):\n",
    "    \"\"\"\n",
    "    Create a RNN using a RNN Cell\n",
    "    :param cell: RNN Cell\n",
    "    :param inputs: Input text data\n",
    "    :return: Tuple (Outputs, Final State)\n",
    "    \"\"\"\n",
    "    \n",
    "    # print(\"build_rnn()\")\n",
    "    # print(\"-----------\")\n",
    "    # print(\"Inputs: {}\".format(inputs))\n",
    "    \n",
    "    outputs, final_state = tf.nn.dynamic_rnn(cell, inputs, dtype=tf.float32)\n",
    "    final_state = tf.identity(final_state, name=\"final_state\")\n",
    "    \n",
    "    return outputs, final_state\n",
    "\n",
    "\n",
    "\"\"\"\n",
    "DON'T MODIFY ANYTHING IN THIS CELL THAT IS BELOW THIS LINE\n",
    "\"\"\"\n",
    "tests.test_build_rnn(build_rnn)"
   ]
  },
  {
   "cell_type": "markdown",
   "metadata": {},
   "source": [
    "### Build the Neural Network\n",
    "Apply the functions you implemented above to:\n",
    "- Apply embedding to `input_data` using your `get_embed(input_data, vocab_size, embed_dim)` function.\n",
    "- Build RNN using `cell` and your `build_rnn(cell, inputs)` function.\n",
    "- Apply a fully connected layer with a linear activation and `vocab_size` as the number of outputs.\n",
    "\n",
    "Return the logits and final state in the following tuple (Logits, FinalState) "
   ]
  },
  {
   "cell_type": "code",
   "execution_count": 12,
   "metadata": {},
   "outputs": [
    {
     "name": "stdout",
     "output_type": "stream",
     "text": [
      "Tests Passed\n"
     ]
    }
   ],
   "source": [
    "def build_nn(cell, rnn_size, input_data, vocab_size, embed_dim):\n",
    "    \"\"\"\n",
    "    Build part of the neural network\n",
    "    :param cell: RNN cell\n",
    "    :param rnn_size: Size of rnns\n",
    "    :param input_data: Input data\n",
    "    :param vocab_size: Vocabulary size\n",
    "    :param embed_dim: Number of embedding dimensions\n",
    "    :return: Tuple (Logits, FinalState)\n",
    "    \"\"\"\n",
    "    \n",
    "    # print(\"build_nn()\")\n",
    "    # print(\"----------\")\n",
    "    \n",
    "    embedding_tensor = get_embed(input_data, vocab_size, embed_dim)\n",
    "    outputs, final_state = build_rnn(cell, embedding_tensor)\n",
    "    logits = tf.contrib.layers.fully_connected(outputs, vocab_size, activation_fn=None)\n",
    "    return logits, final_state\n",
    "\n",
    "\n",
    "\"\"\"\n",
    "DON'T MODIFY ANYTHING IN THIS CELL THAT IS BELOW THIS LINE\n",
    "\"\"\"\n",
    "tests.test_build_nn(build_nn)"
   ]
  },
  {
   "cell_type": "markdown",
   "metadata": {},
   "source": [
    "### Batches\n",
    "Implement `get_batches` to create batches of input and targets using `int_text`.  The batches should be a Numpy array with the shape `(number of batches, 2, batch size, sequence length)`. Each batch contains two elements:\n",
    "- The first element is a single batch of **input** with the shape `[batch size, sequence length]`\n",
    "- The second element is a single batch of **targets** with the shape `[batch size, sequence length]`\n",
    "\n",
    "If you can't fill the last batch with enough data, drop the last batch.\n",
    "\n",
    "For exmple, `get_batches([1, 2, 3, 4, 5, 6, 7, 8, 9, 10, 11, 12, 13, 14, 15, 16, 17, 18, 19, 20], 3, 2)` would return a Numpy array of the following:\n",
    "```\n",
    "[\n",
    "  # First Batch\n",
    "  [\n",
    "    # Batch of Input\n",
    "    [[ 1  2], [ 7  8], [13 14]]\n",
    "    # Batch of targets\n",
    "    [[ 2  3], [ 8  9], [14 15]]\n",
    "  ]\n",
    "\n",
    "  # Second Batch\n",
    "  [\n",
    "    # Batch of Input\n",
    "    [[ 3  4], [ 9 10], [15 16]]\n",
    "    # Batch of targets\n",
    "    [[ 4  5], [10 11], [16 17]]\n",
    "  ]\n",
    "\n",
    "  # Third Batch\n",
    "  [\n",
    "    # Batch of Input\n",
    "    [[ 5  6], [11 12], [17 18]]\n",
    "    # Batch of targets\n",
    "    [[ 6  7], [12 13], [18  1]]\n",
    "  ]\n",
    "]\n",
    "```\n",
    "\n",
    "Notice that the last target value in the last batch is the first input value of the first batch. In this case, `1`. This is a common technique used when creating sequence batches, although it is rather unintuitive."
   ]
  },
  {
   "cell_type": "code",
   "execution_count": 13,
   "metadata": {
    "scrolled": false
   },
   "outputs": [
    {
     "name": "stdout",
     "output_type": "stream",
     "text": [
      "num_batches: 7\n",
      "Tests Passed\n"
     ]
    }
   ],
   "source": [
    "def get_batches(int_text, batch_size, seq_length):\n",
    "    \"\"\"\n",
    "    Return batches of input and target\n",
    "    :param int_text: Text with the words replaced by their ids\n",
    "    :param batch_size: The size of batch\n",
    "    :param seq_length: The length of sequence\n",
    "    :return: Batches as a Numpy array\n",
    "    \"\"\"\n",
    "    \n",
    "    # print(\"get_batches()\")\n",
    "    # print(\"-------------\")\n",
    "    # print(\"Length of input text: {}\".format(len(int_text)))\n",
    "    # print(\"batch_size: {}\".format(batch_size))\n",
    "    # print(\"seq_length: {}\".format(seq_length))\n",
    "    \n",
    "    words_per_batch = batch_size * seq_length\n",
    "    # print(\"words_per_batch: {}\".format(words_per_batch))\n",
    "    \n",
    "    # Calculate the number of batches that we will feed to the network.\n",
    "    num_batches = len(int_text) // words_per_batch\n",
    "    print(\"num_batches: {}\".format(num_batches))\n",
    "    \n",
    "    # Drop the words that don't fit into a batch.\n",
    "    int_text = int_text[:num_batches * words_per_batch]\n",
    "    # print(\"Length of input text: {}\".format(len(int_text)))\n",
    "    \n",
    "    batches = np.zeros((num_batches, 2, batch_size, seq_length))\n",
    "    for i in range(0, num_batches):\n",
    "        for j in range(0, batch_size):\n",
    "            start = i * seq_length + j * (num_batches * seq_length)\n",
    "            end = start + seq_length\n",
    "            # print(\"start, end = {}, {}\".format(start, end))\n",
    "\n",
    "            # Inputs.\n",
    "            x = np.array(int_text[start:end])\n",
    "            \n",
    "            # Targets, shifted by 1.\n",
    "            y = np.zeros_like(x)\n",
    "            y[:-1] = x[1:]\n",
    "            if end == len(int_text):\n",
    "                y[-1] = int_text[0]\n",
    "            else:\n",
    "                y[-1] = int_text[end]\n",
    "            \n",
    "            batches[i, 0, j] = x\n",
    "            batches[i, 1, j] = y\n",
    "            \n",
    "    return batches\n",
    "\n",
    "\n",
    "\"\"\"\n",
    "DON'T MODIFY ANYTHING IN THIS CELL THAT IS BELOW THIS LINE\n",
    "\"\"\"\n",
    "tests.test_get_batches(get_batches)"
   ]
  },
  {
   "cell_type": "markdown",
   "metadata": {},
   "source": [
    "## Neural Network Training\n",
    "### Hyperparameters\n",
    "Tune the following parameters:\n",
    "\n",
    "- Set `num_epochs` to the number of epochs.\n",
    "- Set `batch_size` to the batch size.\n",
    "- Set `rnn_size` to the size of the RNNs.\n",
    "- Set `embed_dim` to the size of the embedding.\n",
    "- Set `seq_length` to the length of sequence.\n",
    "- Set `learning_rate` to the learning rate.\n",
    "- Set `show_every_n_batches` to the number of batches the neural network should print progress."
   ]
  },
  {
   "cell_type": "code",
   "execution_count": 31,
   "metadata": {
    "collapsed": true
   },
   "outputs": [],
   "source": [
    "num_epochs = 100  # Number of Epochs\n",
    "batch_size = 64  # Batch Size\n",
    "rnn_size = 256  # RNN Size\n",
    "embed_dim = 300  # Embedding Dimension Size\n",
    "seq_length = 75  # Sequence Length\n",
    "learning_rate = 0.01  # Learning Rate\n",
    "show_every_n_batches = 8  # Show stats for every n number of batches\n",
    "\n",
    "\"\"\"\n",
    "DON'T MODIFY ANYTHING IN THIS CELL THAT IS BELOW THIS LINE\n",
    "\"\"\"\n",
    "save_dir = './save'"
   ]
  },
  {
   "cell_type": "markdown",
   "metadata": {},
   "source": [
    "### Build the Graph\n",
    "Build the graph using the neural network you implemented."
   ]
  },
  {
   "cell_type": "code",
   "execution_count": 32,
   "metadata": {},
   "outputs": [],
   "source": [
    "\"\"\"\n",
    "DON'T MODIFY ANYTHING IN THIS CELL\n",
    "\"\"\"\n",
    "from tensorflow.contrib import seq2seq\n",
    "\n",
    "train_graph = tf.Graph()\n",
    "with train_graph.as_default():\n",
    "    vocab_size = len(int_to_vocab)\n",
    "    input_text, targets, lr = get_inputs()\n",
    "    input_data_shape = tf.shape(input_text)\n",
    "    cell, initial_state = get_init_cell(input_data_shape[0], rnn_size)\n",
    "    logits, final_state = build_nn(cell, rnn_size, input_text, vocab_size, embed_dim)\n",
    "\n",
    "    # Probabilities for generating words\n",
    "    probs = tf.nn.softmax(logits, name='probs')\n",
    "\n",
    "    # Loss function\n",
    "    cost = seq2seq.sequence_loss(\n",
    "        logits,\n",
    "        targets,\n",
    "        tf.ones([input_data_shape[0], input_data_shape[1]]))\n",
    "\n",
    "    # Optimizer\n",
    "    optimizer = tf.train.AdamOptimizer(lr)\n",
    "\n",
    "    # Gradient Clipping\n",
    "    gradients = optimizer.compute_gradients(cost)\n",
    "    capped_gradients = [(tf.clip_by_value(grad, -1., 1.), var) for grad, var in gradients if grad is not None]\n",
    "    train_op = optimizer.apply_gradients(capped_gradients)"
   ]
  },
  {
   "cell_type": "markdown",
   "metadata": {},
   "source": [
    "## Train\n",
    "Train the neural network on the preprocessed data.  If you have a hard time getting a good loss, check the [forms](https://discussions.udacity.com/) to see if anyone is having the same problem."
   ]
  },
  {
   "cell_type": "code",
   "execution_count": 33,
   "metadata": {},
   "outputs": [
    {
     "name": "stdout",
     "output_type": "stream",
     "text": [
      "num_batches: 14\n",
      "Epoch  10 Batch   14/14   train_loss = 2.857\n",
      "Epoch  20 Batch   14/14   train_loss = 1.605\n",
      "Epoch  30 Batch   14/14   train_loss = 1.015\n",
      "Epoch  40 Batch   14/14   train_loss = 0.553\n",
      "Epoch  50 Batch   14/14   train_loss = 0.337\n",
      "Epoch  60 Batch   14/14   train_loss = 0.181\n",
      "Epoch  70 Batch   14/14   train_loss = 0.129\n",
      "Epoch  80 Batch   14/14   train_loss = 0.052\n",
      "Epoch  90 Batch   14/14   train_loss = 0.044\n",
      "Epoch 100 Batch   14/14   train_loss = 0.036\n",
      "Model Trained and Saved\n"
     ]
    }
   ],
   "source": [
    "\"\"\"\n",
    "DON'T MODIFY ANYTHING IN THIS CELL\n",
    "\"\"\"\n",
    "batches = get_batches(int_text, batch_size, seq_length)\n",
    "\n",
    "with tf.Session(graph=train_graph) as sess:\n",
    "    sess.run(tf.global_variables_initializer())\n",
    "\n",
    "    for epoch_i in range(1, num_epochs + 1):\n",
    "        state = sess.run(initial_state, {input_text: batches[0][0]})\n",
    "\n",
    "        for batch_i, (x, y) in enumerate(batches):\n",
    "            feed = {\n",
    "                input_text: x,\n",
    "                targets: y,\n",
    "                initial_state: state,\n",
    "                lr: learning_rate}\n",
    "            train_loss, state, _ = sess.run([cost, final_state, train_op], feed)\n",
    "\n",
    "            # Show every <show_every_n_batches> batches\n",
    "            # if (epoch_i * len(batches) + batch_i) % show_every_n_batches == 0:\n",
    "            if batch_i == (len(batches) - 1) and epoch_i % 10 == 0:\n",
    "                print('Epoch {:>3} Batch {:>4}/{}   train_loss = {:.3f}'.format(\n",
    "                    epoch_i,\n",
    "                    batch_i + 1,\n",
    "                    len(batches),\n",
    "                    train_loss))\n",
    "\n",
    "    # Save Model\n",
    "    saver = tf.train.Saver()\n",
    "    saver.save(sess, save_dir)\n",
    "    print('Model Trained and Saved')"
   ]
  },
  {
   "cell_type": "code",
   "execution_count": 34,
   "metadata": {},
   "outputs": [],
   "source": [
    "# -------------------------------------------\n",
    "# I'VE USED THIS TO FIND GOOD HYPERPARAMETERS\n",
    "# -------------------------------------------\n",
    "# from tensorflow.contrib import seq2seq\n",
    "\n",
    "# num_epochs = 100          # Number of Epochs.\n",
    "# show_every_n_batches = 8  # Show stats for every n number of batches.\n",
    "                    \n",
    "# for batch_size in [64, 128]:\n",
    "#     for lstm_layers in [1]:\n",
    "#         for rnn_size in [64, 128, 256]:\n",
    "#             for embed_dim in [100, 200, 300]:\n",
    "#                 for seq_length in [15, 25, 50, 75]:\n",
    "#                     for learning_rate in [0.1, 0.01, 0.001, 0.0001]:\n",
    "#                         print(\"batch_size={}, lstm_layers={}, rnn_size={}, embed_dim={}, seq_length={}, learning_rate={}, show_every_n_batches={}\"\n",
    "#                               .format(batch_size, lstm_layers, rnn_size, embed_dim, seq_length, learning_rate, show_every_n_batches))\n",
    "# \n",
    "#                         batches = get_batches(int_text, batch_size, seq_length)\n",
    "#                         \n",
    "#                         train_graph = tf.Graph()\n",
    "#                         with train_graph.as_default():\n",
    "#                             vocab_size = len(int_to_vocab)\n",
    "#                             input_text, targets, lr = get_inputs()\n",
    "#                             input_data_shape = tf.shape(input_text)\n",
    "#                             cell, initial_state = get_init_cell(input_data_shape[0], rnn_size, lstm_layers)\n",
    "#                             logits, final_state = build_nn(cell, rnn_size, input_text, vocab_size, embed_dim)\n",
    "# \n",
    "#                             # Probabilities for generating words\n",
    "#                             probs = tf.nn.softmax(logits, name='probs')\n",
    "# \n",
    "#                             # Loss function\n",
    "#                             cost = seq2seq.sequence_loss(\n",
    "#                                 logits,\n",
    "#                                 targets,\n",
    "#                                 tf.ones([input_data_shape[0], input_data_shape[1]]))\n",
    "# \n",
    "#                             # Optimizer\n",
    "#                             optimizer = tf.train.AdamOptimizer(lr)\n",
    "# \n",
    "#                             # Gradient Clipping\n",
    "#                             gradients = optimizer.compute_gradients(cost)\n",
    "#                             capped_gradients = [(tf.clip_by_value(grad, -1., 1.), var) for grad, var in gradients if grad is not None]\n",
    "#                             train_op = optimizer.apply_gradients(capped_gradients)\n",
    "# \n",
    "#                         with tf.Session(graph=train_graph) as sess:\n",
    "#                             sess.run(tf.global_variables_initializer())\n",
    "# \n",
    "#                             for epoch_i in range(1, num_epochs + 1):\n",
    "#                                 state = sess.run(initial_state, {input_text: batches[0][0]})\n",
    "# \n",
    "#                                 for batch_i, (x, y) in enumerate(batches):\n",
    "#                                     feed = {\n",
    "#                                         input_text: x,\n",
    "#                                         targets: y,\n",
    "#                                         initial_state: state,\n",
    "#                                         lr: learning_rate}\n",
    "#                                     train_loss, state, _ = sess.run([cost, final_state, train_op], feed)\n",
    "# \n",
    "#                                     # Show every <show_every_n_batches> batches\n",
    "#                                     # if (epoch_i * len(batches) + batch_i) % show_every_n_batches == 0:\n",
    "#                                     if batch_i == (len(batches) - 1) and epoch_i % 10 == 0:\n",
    "#                                         print('Epoch {:>3} Batch {:>4}/{}   train_loss = {:.3f}'.format(\n",
    "#                                             epoch_i,\n",
    "#                                             batch_i + 1,\n",
    "#                                             len(batches),\n",
    "#                                             train_loss))"
   ]
  },
  {
   "cell_type": "markdown",
   "metadata": {},
   "source": [
    "## Results of hyperparameter tuning\n",
    "\n",
    "| Train Loss         | Batch Size    | LSTM Layers   | RNN Size    | Embedding Dimensions | Sequence Length | Learning Rate |\n",
    "| ------------------ | ------------- | ------------- | ----------- | -------------------- | --------------- | ------------- |\n",
    "| train_loss = 4.190 | batch_size=64 | lstm_layers=1 | rnn_size=64 | embed_dim=100 | seq_length=15 | learning_rate=0.1\n",
    "| train_loss = 1.395 | batch_size=64 | lstm_layers=1 | rnn_size=64 | embed_dim=100 | seq_length=15 | learning_rate=0.01\n",
    "| train_loss = 3.022 | batch_size=64 | lstm_layers=1 | rnn_size=64 | embed_dim=100 | seq_length=15 | learning_rate=0.001\n",
    "| train_loss = 5.396 | batch_size=64 | lstm_layers=1 | rnn_size=64 | embed_dim=100 | seq_length=15 | learning_rate=0.0001\n",
    "| train_loss = 3.875 | batch_size=64 | lstm_layers=1 | rnn_size=64 | embed_dim=100 | seq_length=25 | learning_rate=0.1\n",
    "| train_loss = 1.601 | batch_size=64 | lstm_layers=1 | rnn_size=64 | embed_dim=100 | seq_length=25 | learning_rate=0.01\n",
    "| train_loss = 3.476 | batch_size=64 | lstm_layers=1 | rnn_size=64 | embed_dim=100 | seq_length=25 | learning_rate=0.001\n",
    "| train_loss = 5.471 | batch_size=64 | lstm_layers=1 | rnn_size=64 | embed_dim=100 | seq_length=25 | learning_rate=0.0001\n",
    "| train_loss = 3.348 | batch_size=64 | lstm_layers=1 | rnn_size=64 | embed_dim=100 | seq_length=50 | learning_rate=0.1\n",
    "| train_loss = 1.905 | batch_size=64 | lstm_layers=1 | rnn_size=64 | embed_dim=100 | seq_length=50 | learning_rate=0.01\n",
    "| train_loss = 3.979 | batch_size=64 | lstm_layers=1 | rnn_size=64 | embed_dim=100 | seq_length=50 | learning_rate=0.001\n",
    "| train_loss = 5.835 | batch_size=64 | lstm_layers=1 | rnn_size=64 | embed_dim=100 | seq_length=50 | learning_rate=0.0001\n",
    "| train_loss = 3.147 | batch_size=64 | lstm_layers=1 | rnn_size=64 | embed_dim=100 | seq_length=75 | learning_rate=0.1\n",
    "| train_loss = 2.199 | batch_size=64 | lstm_layers=1 | rnn_size=64 | embed_dim=100 | seq_length=75 | learning_rate=0.01\n",
    "| train_loss = 4.215 | batch_size=64 | lstm_layers=1 | rnn_size=64 | embed_dim=100 | seq_length=75 | learning_rate=0.001\n",
    "| train_loss = 5.872 | batch_size=64 | lstm_layers=1 | rnn_size=64 | embed_dim=100 | seq_length=75 | learning_rate=0.0001\n",
    "| train_loss = 4.401 | batch_size=64 | lstm_layers=1 | rnn_size=64 | embed_dim=200 | seq_length=15 | learning_rate=0.1\n",
    "| train_loss = 1.555 | batch_size=64 | lstm_layers=1 | rnn_size=64 | embed_dim=200 | seq_length=15 | learning_rate=0.01\n",
    "| train_loss = 2.802 | batch_size=64 | lstm_layers=1 | rnn_size=64 | embed_dim=200 | seq_length=15 | learning_rate=0.001\n",
    "| train_loss = 5.237 | batch_size=64 | lstm_layers=1 | rnn_size=64 | embed_dim=200 | seq_length=15 | learning_rate=0.0001\n",
    "| train_loss = 4.016 | batch_size=64 | lstm_layers=1 | rnn_size=64 | embed_dim=200 | seq_length=25 | learning_rate=0.1\n",
    "| train_loss = 1.658 | batch_size=64 | lstm_layers=1 | rnn_size=64 | embed_dim=200 | seq_length=25 | learning_rate=0.01\n",
    "| train_loss = 3.258 | batch_size=64 | lstm_layers=1 | rnn_size=64 | embed_dim=200 | seq_length=25 | learning_rate=0.001\n",
    "| train_loss = 5.416 | batch_size=64 | lstm_layers=1 | rnn_size=64 | embed_dim=200 | seq_length=25 | learning_rate=0.0001\n",
    "| train_loss = 3.440 | batch_size=64 | lstm_layers=1 | rnn_size=64 | embed_dim=200 | seq_length=50 | learning_rate=0.1\n",
    "| train_loss = 1.701 | batch_size=64 | lstm_layers=1 | rnn_size=64 | embed_dim=200 | seq_length=50 | learning_rate=0.01\n",
    "| train_loss = 3.847 | batch_size=64 | lstm_layers=1 | rnn_size=64 | embed_dim=200 | seq_length=50 | learning_rate=0.001\n",
    "| train_loss = 5.762 | batch_size=64 | lstm_layers=1 | rnn_size=64 | embed_dim=200 | seq_length=50 | learning_rate=0.0001\n",
    "| train_loss = 3.193 | batch_size=64 | lstm_layers=1 | rnn_size=64 | embed_dim=200 | seq_length=75 | learning_rate=0.1\n",
    "| train_loss = 2.106 | batch_size=64 | lstm_layers=1 | rnn_size=64 | embed_dim=200 | seq_length=75 | learning_rate=0.01\n",
    "| train_loss = 4.076 | batch_size=64 | lstm_layers=1 | rnn_size=64 | embed_dim=200 | seq_length=75 | learning_rate=0.001\n",
    "| train_loss = 5.828 | batch_size=64 | lstm_layers=1 | rnn_size=64 | embed_dim=200 | seq_length=75 | learning_rate=0.0001\n",
    "| train_loss = 4.474 | batch_size=64 | lstm_layers=1 | rnn_size=64 | embed_dim=300 | seq_length=15 | learning_rate=0.1\n",
    "| train_loss = 1.652 | batch_size=64 | lstm_layers=1 | rnn_size=64 | embed_dim=300 | seq_length=15 | learning_rate=0.01\n",
    "| train_loss = 2.713 | batch_size=64 | lstm_layers=1 | rnn_size=64 | embed_dim=300 | seq_length=15 | learning_rate=0.001\n",
    "| train_loss = 5.167 | batch_size=64 | lstm_layers=1 | rnn_size=64 | embed_dim=300 | seq_length=15 | learning_rate=0.0001\n",
    "| train_loss = 4.121 | batch_size=64 | lstm_layers=1 | rnn_size=64 | embed_dim=300 | seq_length=25 | learning_rate=0.1\n",
    "| train_loss = 1.766 | batch_size=64 | lstm_layers=1 | rnn_size=64 | embed_dim=300 | seq_length=25 | learning_rate=0.01\n",
    "| train_loss = 3.115 | batch_size=64 | lstm_layers=1 | rnn_size=64 | embed_dim=300 | seq_length=25 | learning_rate=0.001\n",
    "| train_loss = 5.364 | batch_size=64 | lstm_layers=1 | rnn_size=64 | embed_dim=300 | seq_length=25 | learning_rate=0.0001\n",
    "| train_loss = 3.486 | batch_size=64 | lstm_layers=1 | rnn_size=64 | embed_dim=300 | seq_length=50 | learning_rate=0.1\n",
    "| train_loss = 1.821 | batch_size=64 | lstm_layers=1 | rnn_size=64 | embed_dim=300 | seq_length=50 | learning_rate=0.01\n",
    "| train_loss = 3.673 | batch_size=64 | lstm_layers=1 | rnn_size=64 | embed_dim=300 | seq_length=50 | learning_rate=0.001\n",
    "| train_loss = 5.723 | batch_size=64 | lstm_layers=1 | rnn_size=64 | embed_dim=300 | seq_length=50 | learning_rate=0.0001\n",
    "| train_loss = 3.382 | batch_size=64 | lstm_layers=1 | rnn_size=64 | embed_dim=300 | seq_length=75 | learning_rate=0.1\n",
    "| train_loss = 1.925 | batch_size=64 | lstm_layers=1 | rnn_size=64 | embed_dim=300 | seq_length=75 | learning_rate=0.01\n",
    "| train_loss = 3.974 | batch_size=64 | lstm_layers=1 | rnn_size=64 | embed_dim=300 | seq_length=75 | learning_rate=0.001\n",
    "| train_loss = 5.793 | batch_size=64 | lstm_layers=1 | rnn_size=64 | embed_dim=300 | seq_length=75 | learning_rate=0.0001\n",
    "| train_loss = 4.161 | batch_size=64 | lstm_layers=1 | rnn_size=128 | embed_dim=100 | seq_length=15 | learning_rate=0.1\n",
    "| train_loss = 0.665 | batch_size=64 | lstm_layers=1 | rnn_size=128 | embed_dim=100 | seq_length=15 | learning_rate=0.01\n",
    "| train_loss = 2.042 | batch_size=64 | lstm_layers=1 | rnn_size=128 | embed_dim=100 | seq_length=15 | learning_rate=0.001\n",
    "| train_loss = 5.005 | batch_size=64 | lstm_layers=1 | rnn_size=128 | embed_dim=100 | seq_length=15 | learning_rate=0.0001\n",
    "| train_loss = 3.739 | batch_size=64 | lstm_layers=1 | rnn_size=128 | embed_dim=100 | seq_length=25 | learning_rate=0.1\n",
    "| train_loss = 0.595 | batch_size=64 | lstm_layers=1 | rnn_size=128 | embed_dim=100 | seq_length=25 | learning_rate=0.01\n",
    "| train_loss = 2.697 | batch_size=64 | lstm_layers=1 | rnn_size=128 | embed_dim=100 | seq_length=25 | learning_rate=0.001\n",
    "| train_loss = 5.146 | batch_size=64 | lstm_layers=1 | rnn_size=128 | embed_dim=100 | seq_length=25 | learning_rate=0.0001\n",
    "| train_loss = 3.028 | batch_size=64 | lstm_layers=1 | rnn_size=128 | embed_dim=100 | seq_length=50 | learning_rate=0.1\n",
    "| train_loss = 0.788 | batch_size=64 | lstm_layers=1 | rnn_size=128 | embed_dim=100 | seq_length=50 | learning_rate=0.01\n",
    "| train_loss = 3.320 | batch_size=64 | lstm_layers=1 | rnn_size=128 | embed_dim=100 | seq_length=50 | learning_rate=0.001\n",
    "| train_loss = 5.553 | batch_size=64 | lstm_layers=1 | rnn_size=128 | embed_dim=100 | seq_length=50 | learning_rate=0.0001\n",
    "| train_loss = 2.614 | batch_size=64 | lstm_layers=1 | rnn_size=128 | embed_dim=100 | seq_length=75 | learning_rate=0.1\n",
    "| train_loss = 1.010 | batch_size=64 | lstm_layers=1 | rnn_size=128 | embed_dim=100 | seq_length=75 | learning_rate=0.01\n",
    "| train_loss = 3.720 | batch_size=64 | lstm_layers=1 | rnn_size=128 | embed_dim=100 | seq_length=75 | learning_rate=0.001\n",
    "| train_loss = 5.727 | batch_size=64 | lstm_layers=1 | rnn_size=128 | embed_dim=100 | seq_length=75 | learning_rate=0.0001\n",
    "| train_loss = 4.412 | batch_size=64 | lstm_layers=1 | rnn_size=128 | embed_dim=200 | seq_length=15 | learning_rate=0.1\n",
    "| train_loss = 0.616 | batch_size=64 | lstm_layers=1 | rnn_size=128 | embed_dim=200 | seq_length=15 | learning_rate=0.01\n",
    "| train_loss = 1.722 | batch_size=64 | lstm_layers=1 | rnn_size=128 | embed_dim=200 | seq_length=15 | learning_rate=0.001\n",
    "| train_loss = 4.741 | batch_size=64 | lstm_layers=1 | rnn_size=128 | embed_dim=200 | seq_length=15 | learning_rate=0.0001\n",
    "| train_loss = 3.876 | batch_size=64 | lstm_layers=1 | rnn_size=128 | embed_dim=200 | seq_length=25 | learning_rate=0.1\n",
    "| train_loss = 0.581 | batch_size=64 | lstm_layers=1 | rnn_size=128 | embed_dim=200 | seq_length=25 | learning_rate=0.01\n",
    "| train_loss = 2.520 | batch_size=64 | lstm_layers=1 | rnn_size=128 | embed_dim=200 | seq_length=25 | learning_rate=0.001\n",
    "| train_loss = 4.944 | batch_size=64 | lstm_layers=1 | rnn_size=128 | embed_dim=200 | seq_length=25 | learning_rate=0.0001\n",
    "| train_loss = 3.104 | batch_size=64 | lstm_layers=1 | rnn_size=128 | embed_dim=200 | seq_length=50 | learning_rate=0.1\n",
    "| train_loss = 0.611 | batch_size=64 | lstm_layers=1 | rnn_size=128 | embed_dim=200 | seq_length=50 | learning_rate=0.01\n",
    "| train_loss = 3.123 | batch_size=64 | lstm_layers=1 | rnn_size=128 | embed_dim=200 | seq_length=50 | learning_rate=0.001\n",
    "| train_loss = 5.389 | batch_size=64 | lstm_layers=1 | rnn_size=128 | embed_dim=200 | seq_length=50 | learning_rate=0.0001\n",
    "| train_loss = 3.043 | batch_size=64 | lstm_layers=1 | rnn_size=128 | embed_dim=200 | seq_length=75 | learning_rate=0.1\n",
    "| train_loss = 0.811 | batch_size=64 | lstm_layers=1 | rnn_size=128 | embed_dim=200 | seq_length=75 | learning_rate=0.01\n",
    "| train_loss = 3.518 | batch_size=64 | lstm_layers=1 | rnn_size=128 | embed_dim=200 | seq_length=75 | learning_rate=0.001\n",
    "| train_loss = 5.563 | batch_size=64 | lstm_layers=1 | rnn_size=128 | embed_dim=200 | seq_length=75 | learning_rate=0.0001\n",
    "| train_loss = 4.491 | batch_size=64 | lstm_layers=1 | rnn_size=128 | embed_dim=300 | seq_length=15 | learning_rate=0.1\n",
    "| train_loss = 0.706 | batch_size=64 | lstm_layers=1 | rnn_size=128 | embed_dim=300 | seq_length=15 | learning_rate=0.01\n",
    "| train_loss = 1.619 | batch_size=64 | lstm_layers=1 | rnn_size=128 | embed_dim=300 | seq_length=15 | learning_rate=0.001\n",
    "| train_loss = 4.625 | batch_size=64 | lstm_layers=1 | rnn_size=128 | embed_dim=300 | seq_length=15 | learning_rate=0.0001\n",
    "| train_loss = 4.090 | batch_size=64 | lstm_layers=1 | rnn_size=128 | embed_dim=300 | seq_length=25 | learning_rate=0.1\n",
    "| train_loss = 0.583 | batch_size=64 | lstm_layers=1 | rnn_size=128 | embed_dim=300 | seq_length=25 | learning_rate=0.01\n",
    "| train_loss = 2.341 | batch_size=64 | lstm_layers=1 | rnn_size=128 | embed_dim=300 | seq_length=25 | learning_rate=0.001\n",
    "| train_loss = 4.847 | batch_size=64 | lstm_layers=1 | rnn_size=128 | embed_dim=300 | seq_length=25 | learning_rate=0.0001\n",
    "| train_loss = 3.219 | batch_size=64 | lstm_layers=1 | rnn_size=128 | embed_dim=300 | seq_length=50 | learning_rate=0.1\n",
    "| train_loss = 0.534 | batch_size=64 | lstm_layers=1 | rnn_size=128 | embed_dim=300 | seq_length=50 | learning_rate=0.01\n",
    "| train_loss = 3.000 | batch_size=64 | lstm_layers=1 | rnn_size=128 | embed_dim=300 | seq_length=50 | learning_rate=0.001\n",
    "| train_loss = 5.284 | batch_size=64 | lstm_layers=1 | rnn_size=128 | embed_dim=300 | seq_length=50 | learning_rate=0.0001\n",
    "| train_loss = 2.824 | batch_size=64 | lstm_layers=1 | rnn_size=128 | embed_dim=300 | seq_length=75 | learning_rate=0.1\n",
    "| train_loss = 0.715 | batch_size=64 | lstm_layers=1 | rnn_size=128 | embed_dim=300 | seq_length=75 | learning_rate=0.01\n",
    "| train_loss = 3.332 | batch_size=64 | lstm_layers=1 | rnn_size=128 | embed_dim=300 | seq_length=75 | learning_rate=0.001\n",
    "| train_loss = 5.508 | batch_size=64 | lstm_layers=1 | rnn_size=128 | embed_dim=300 | seq_length=75 | learning_rate=0.0001\n",
    "| train_loss = 0.271 | batch_size=64 | lstm_layers=1 | rnn_size=256 | embed_dim=100 | seq_length=15 | learning_rate=0.01\n",
    "| train_loss = 0.139 | batch_size=64 | lstm_layers=1 | rnn_size=256 | embed_dim=100 | seq_length=25 | learning_rate=0.01\n",
    "| train_loss = 0.075 | batch_size=64 | lstm_layers=1 | rnn_size=256 | embed_dim=100 | seq_length=50 | learning_rate=0.01\n",
    "| train_loss = 0.089 | batch_size=64 | lstm_layers=1 | rnn_size=256 | embed_dim=100 | seq_length=75 | learning_rate=0.01\n",
    "| train_loss = 0.868 | batch_size=64 | lstm_layers=1 | rnn_size=256 | embed_dim=200 | seq_length=15 | learning_rate=0.01\n",
    "| train_loss = 0.135 | batch_size=64 | lstm_layers=1 | rnn_size=256 | embed_dim=200 | seq_length=25 | learning_rate=0.01\n",
    "| train_loss = 0.053 | batch_size=64 | lstm_layers=1 | rnn_size=256 | embed_dim=200 | seq_length=50 | learning_rate=0.01\n",
    "| train_loss = 0.040 | batch_size=64 | lstm_layers=1 | rnn_size=256 | embed_dim=200 | seq_length=75 | learning_rate=0.01\n",
    "| train_loss = 0.262 | batch_size=64 | lstm_layers=1 | rnn_size=256 | embed_dim=300 | seq_length=15 | learning_rate=0.01\n",
    "| train_loss = 0.133 | batch_size=64 | lstm_layers=1 | rnn_size=256 | embed_dim=300 | seq_length=25 | learning_rate=0.01\n",
    "| train_loss = 0.051 | batch_size=64 | lstm_layers=1 | rnn_size=256 | embed_dim=300 | seq_length=50 | learning_rate=0.01\n",
    "| **train_loss = 0.038** | batch_size=64 | lstm_layers=1 | rnn_size=256 | embed_dim=300 | seq_length=75 | learning_rate=0.01"
   ]
  },
  {
   "cell_type": "markdown",
   "metadata": {},
   "source": [
    "## Save Parameters\n",
    "Save `seq_length` and `save_dir` for generating a new TV script."
   ]
  },
  {
   "cell_type": "code",
   "execution_count": 35,
   "metadata": {
    "collapsed": true
   },
   "outputs": [],
   "source": [
    "\"\"\"\n",
    "DON'T MODIFY ANYTHING IN THIS CELL\n",
    "\"\"\"\n",
    "# Save parameters for checkpoint\n",
    "helper.save_params((seq_length, save_dir))"
   ]
  },
  {
   "cell_type": "markdown",
   "metadata": {},
   "source": [
    "# Checkpoint"
   ]
  },
  {
   "cell_type": "code",
   "execution_count": 36,
   "metadata": {
    "collapsed": true
   },
   "outputs": [],
   "source": [
    "\"\"\"\n",
    "DON'T MODIFY ANYTHING IN THIS CELL\n",
    "\"\"\"\n",
    "import tensorflow as tf\n",
    "import numpy as np\n",
    "import helper\n",
    "import problem_unittests as tests\n",
    "\n",
    "_, vocab_to_int, int_to_vocab, token_dict = helper.load_preprocess()\n",
    "seq_length, load_dir = helper.load_params()"
   ]
  },
  {
   "cell_type": "markdown",
   "metadata": {},
   "source": [
    "## Implement Generate Functions\n",
    "### Get Tensors\n",
    "Get tensors from `loaded_graph` using the function [`get_tensor_by_name()`](https://www.tensorflow.org/api_docs/python/tf/Graph#get_tensor_by_name).  Get the tensors using the following names:\n",
    "- \"input:0\"\n",
    "- \"initial_state:0\"\n",
    "- \"final_state:0\"\n",
    "- \"probs:0\"\n",
    "\n",
    "Return the tensors in the following tuple `(InputTensor, InitialStateTensor, FinalStateTensor, ProbsTensor)` "
   ]
  },
  {
   "cell_type": "code",
   "execution_count": 37,
   "metadata": {},
   "outputs": [
    {
     "name": "stdout",
     "output_type": "stream",
     "text": [
      "Tests Passed\n"
     ]
    }
   ],
   "source": [
    "def get_tensors(loaded_graph):\n",
    "    \"\"\"\n",
    "    Get input, initial state, final state, and probabilities tensor from <loaded_graph>\n",
    "    :param loaded_graph: TensorFlow graph loaded from file\n",
    "    :return: Tuple (InputTensor, InitialStateTensor, FinalStateTensor, ProbsTensor)\n",
    "    \"\"\"\n",
    "    input0 = loaded_graph.get_tensor_by_name(\"input:0\")\n",
    "    initial_state0 = loaded_graph.get_tensor_by_name(\"initial_state:0\")\n",
    "    final_state0 = loaded_graph.get_tensor_by_name(\"final_state:0\")\n",
    "    probs0 = loaded_graph.get_tensor_by_name(\"probs:0\")\n",
    "    return input0, initial_state0, final_state0, probs0\n",
    "\n",
    "\n",
    "\"\"\"\n",
    "DON'T MODIFY ANYTHING IN THIS CELL THAT IS BELOW THIS LINE\n",
    "\"\"\"\n",
    "tests.test_get_tensors(get_tensors)"
   ]
  },
  {
   "cell_type": "markdown",
   "metadata": {},
   "source": [
    "### Choose Word\n",
    "Implement the `pick_word()` function to select the next word using `probabilities`."
   ]
  },
  {
   "cell_type": "code",
   "execution_count": 41,
   "metadata": {},
   "outputs": [
    {
     "name": "stdout",
     "output_type": "stream",
     "text": [
      "Tests Passed\n"
     ]
    }
   ],
   "source": [
    "def pick_word(probabilities, int_to_vocab):\n",
    "    \"\"\"\n",
    "    Pick the next word in the generated text\n",
    "    :param probabilities: Probabilites of the next word\n",
    "    :param int_to_vocab: Dictionary of word ids as the keys and words as the values\n",
    "    :return: String of the predicted word\n",
    "    \"\"\"\n",
    "    words = list(int_to_vocab.values())\n",
    "    return np.random.choice(a=words, p=probabilities)\n",
    "\n",
    "\n",
    "\"\"\"\n",
    "DON'T MODIFY ANYTHING IN THIS CELL THAT IS BELOW THIS LINE\n",
    "\"\"\"\n",
    "tests.test_pick_word(pick_word)"
   ]
  },
  {
   "cell_type": "markdown",
   "metadata": {},
   "source": [
    "## Generate TV Script\n",
    "This will generate the TV script for you.  Set `gen_length` to the length of TV script you want to generate."
   ]
  },
  {
   "cell_type": "code",
   "execution_count": 42,
   "metadata": {},
   "outputs": [
    {
     "name": "stdout",
     "output_type": "stream",
     "text": [
      "moe_szyslak: so lenny, let's say you pull a thorn out of the pope's butt and he grants ya one wish. what'll it be?\n",
      "lenny_leonard: hmm, only one, huh... well, i've always wondered what it would feel like goin' from in this?\n",
      "carl_carlson: hey at this channel?\n",
      "homer_simpson: well, i did. the springfield police have to call me, and i invented it.\n",
      "\n",
      "\n",
      "moe_szyslak:(laughs) i believe in some kind of polygon.\n",
      "carl_carlson: hexa- or octa-?\n",
      "lenny_leonard: only one way to decide: arm wrestling.\n",
      "moe_szyslak:(sadly muttering to my beer. no pal,(loud) achem!\n",
      "homer_simpson:(loud whisper) let's try(loud) hey, moe, can you think of a way to please a woman that starts with\" f\"?\n",
      "moe_szyslak: hey, you know, i'm back where i belong, eh?\n",
      "smile:(low baritone voice) you're not alone... babar, king of the elephants. i know your money's no beer.\n"
     ]
    }
   ],
   "source": [
    "gen_length = 200\n",
    "# homer_simpson, moe_szyslak, or Barney_Gumble\n",
    "prime_word = 'moe_szyslak'\n",
    "\n",
    "\"\"\"\n",
    "DON'T MODIFY ANYTHING IN THIS CELL THAT IS BELOW THIS LINE\n",
    "\"\"\"\n",
    "loaded_graph = tf.Graph()\n",
    "with tf.Session(graph=loaded_graph) as sess:\n",
    "    # Load saved model\n",
    "    loader = tf.train.import_meta_graph(load_dir + '.meta')\n",
    "    loader.restore(sess, load_dir)\n",
    "\n",
    "    # Get Tensors from loaded model\n",
    "    input_text, initial_state, final_state, probs = get_tensors(loaded_graph)\n",
    "\n",
    "    # Sentences generation setup\n",
    "    gen_sentences = [prime_word + ':']\n",
    "    prev_state = sess.run(initial_state, {input_text: np.array([[1]])})\n",
    "\n",
    "    # Generate sentences\n",
    "    for n in range(gen_length):\n",
    "        # Dynamic Input\n",
    "        dyn_input = [[vocab_to_int[word] for word in gen_sentences[-seq_length:]]]\n",
    "        dyn_seq_length = len(dyn_input[0])\n",
    "\n",
    "        # Get Prediction\n",
    "        probabilities, prev_state = sess.run(\n",
    "            [probs, final_state],\n",
    "            {input_text: dyn_input, initial_state: prev_state})\n",
    "        \n",
    "        pred_word = pick_word(probabilities[dyn_seq_length-1], int_to_vocab)\n",
    "\n",
    "        gen_sentences.append(pred_word)\n",
    "    \n",
    "    # Remove tokens\n",
    "    tv_script = ' '.join(gen_sentences)\n",
    "    for key, token in token_dict.items():\n",
    "        ending = ' ' if key in ['\\n', '(', '\"'] else ''\n",
    "        tv_script = tv_script.replace(' ' + token.lower(), key)\n",
    "    tv_script = tv_script.replace('\\n ', '\\n')\n",
    "    tv_script = tv_script.replace('( ', '(')\n",
    "        \n",
    "    print(tv_script)"
   ]
  },
  {
   "cell_type": "markdown",
   "metadata": {},
   "source": [
    "## Analysis\n",
    "My first network overfitted the data. It achieved a loss of 0.036 and produced almost word-by-word copies of the original dataset. According to the review, the sequence length should be about the average number of words in a sentence (between 15 and 20). I assume that the high sequence length that I used contributed quite a bit to the overfitted model. Here are the parameters that I used:\n",
    "* num_epochs = 100\n",
    "* batch_size = 64\n",
    "* rnn_size = 256\n",
    "* embed_dim = 300\n",
    "* seq_length = 75\n",
    "* learning_rate = 0.01"
   ]
  },
  {
   "cell_type": "markdown",
   "metadata": {},
   "source": [
    "# The TV Script is Nonsensical\n",
    "It's ok if the TV script doesn't make any sense.  We trained on less than a megabyte of text.  In order to get good results, you'll have to use a smaller vocabulary or get more data.  Luckly there's more data!  As we mentioned in the begging of this project, this is a subset of [another dataset](https://www.kaggle.com/wcukierski/the-simpsons-by-the-data).  We didn't have you train on all the data, because that would take too long.  However, you are free to train your neural network on all the data.  After you complete the project, of course.\n",
    "# Submitting This Project\n",
    "When submitting this project, make sure to run all the cells before saving the notebook. Save the notebook file as \"dlnd_tv_script_generation.ipynb\" and save it as a HTML file under \"File\" -> \"Download as\". Include the \"helper.py\" and \"problem_unittests.py\" files in your submission."
   ]
  }
 ],
 "metadata": {
  "anaconda-cloud": {},
  "kernelspec": {
   "display_name": "Python [default]",
   "language": "python",
   "name": "python3"
  },
  "language_info": {
   "codemirror_mode": {
    "name": "ipython",
    "version": 3
   },
   "file_extension": ".py",
   "mimetype": "text/x-python",
   "name": "python",
   "nbconvert_exporter": "python",
   "pygments_lexer": "ipython3",
   "version": "3.5.3"
  },
  "widgets": {
   "state": {},
   "version": "1.1.2"
  }
 },
 "nbformat": 4,
 "nbformat_minor": 1
}
